{
 "cells": [
  {
   "cell_type": "markdown",
   "metadata": {},
   "source": [
    "# Labb 2 - Pandas och data processing\n",
    "\n",
    "Vi hör mycket i media om att Sveriges PISA-resultat blir sämre och att svenska skolan tappar i kunskapsnivå. Låt oss\n",
    "undersöka lite närmre hur det ser ut med hjälp av nationella prov i årskurs 9.\n",
    "Skolverket har samlat mycket statistik kring nationella proven i årskurs 9 som vi kommer att analysera vidare.\n",
    "\n",
    "***Uppgifter***\n",
    "\n",
    "Alla grafer ska exporteras till en undermapp som heter visualiseringar i ditt repo för labben. Exportera matplotlib grafer\n",
    "i png-format och plotly-grafer som html-filer. Ge relevanta namn till dina filer så det blir lätt att referera till dem.\n",
    "Tänk på data storytelling, graferna du skapar ska ha lämpliga rubriker, labels, annoteringar mm.\n",
    "\n",
    "***Uppgift 2***\n",
    "\n",
    "I uppgifterna nedan ska du använda dig av datasetet betyg_o_prov_riksnivå.xlsx. Använd Plotly för att rita diagrammen\n",
    "nedan för de uppgifter som kräver diagram. Använd Pandas för att svara på frågor om datasetet.\n",
    "\n",
    "- a) Rita ett linjediagram för andel elever som saknar godkänt betyg i ett eller fler ämnen för läsår 18-23. Ta med totalt,\n",
    "flickor och pojkar i samma graf.\n",
    "\n",
    "- b) Rita ett linjediagram för meritvärde för 16 ämnen för totalt, flickor och pojkar för läsår 18-23.\n",
    "\n",
    "- c) (bonus) Undersök nu andra variabler, och hur de påverkar meritvärde och andel med minst ett saknat betyg. Data\n",
    "finns för läsår 22/23. Exempel kan man undersöka föräldrarnas utbildningsbakgrund. Rita lämpliga grafer."
   ]
  },
  {
   "cell_type": "code",
   "execution_count": 49,
   "metadata": {},
   "outputs": [
    {
     "data": {
      "text/html": [
       "<div>\n",
       "<style scoped>\n",
       "    .dataframe tbody tr th:only-of-type {\n",
       "        vertical-align: middle;\n",
       "    }\n",
       "\n",
       "    .dataframe tbody tr th {\n",
       "        vertical-align: top;\n",
       "    }\n",
       "\n",
       "    .dataframe thead th {\n",
       "        text-align: right;\n",
       "    }\n",
       "</style>\n",
       "<table border=\"1\" class=\"dataframe\">\n",
       "  <thead>\n",
       "    <tr style=\"text-align: right;\">\n",
       "      <th></th>\n",
       "      <th>Grundskolan – Betyg och Prov – Riksnivå</th>\n",
       "      <th>Unnamed: 1</th>\n",
       "      <th>Unnamed: 2</th>\n",
       "      <th>Unnamed: 3</th>\n",
       "      <th>Unnamed: 4</th>\n",
       "      <th>Unnamed: 5</th>\n",
       "      <th>Unnamed: 6</th>\n",
       "      <th>Unnamed: 7</th>\n",
       "      <th>Unnamed: 8</th>\n",
       "      <th>Unnamed: 9</th>\n",
       "    </tr>\n",
       "  </thead>\n",
       "  <tbody>\n",
       "    <tr>\n",
       "      <th>0</th>\n",
       "      <td></td>\n",
       "      <td>NaN</td>\n",
       "      <td>NaN</td>\n",
       "      <td>NaN</td>\n",
       "      <td>NaN</td>\n",
       "      <td>NaN</td>\n",
       "      <td>NaN</td>\n",
       "      <td>NaN</td>\n",
       "      <td>NaN</td>\n",
       "      <td>NaN</td>\n",
       "    </tr>\n",
       "    <tr>\n",
       "      <th>1</th>\n",
       "      <td></td>\n",
       "      <td>NaN</td>\n",
       "      <td>NaN</td>\n",
       "      <td>NaN</td>\n",
       "      <td>NaN</td>\n",
       "      <td>NaN</td>\n",
       "      <td>NaN</td>\n",
       "      <td>NaN</td>\n",
       "      <td>NaN</td>\n",
       "      <td>NaN</td>\n",
       "    </tr>\n",
       "    <tr>\n",
       "      <th>2</th>\n",
       "      <td>Tabell 1B: Resultat av slutbetyg för elever so...</td>\n",
       "      <td>NaN</td>\n",
       "      <td>NaN</td>\n",
       "      <td>NaN</td>\n",
       "      <td>NaN</td>\n",
       "      <td>NaN</td>\n",
       "      <td>NaN</td>\n",
       "      <td>NaN</td>\n",
       "      <td>NaN</td>\n",
       "      <td>NaN</td>\n",
       "    </tr>\n",
       "    <tr>\n",
       "      <th>3</th>\n",
       "      <td>NaN</td>\n",
       "      <td>NaN</td>\n",
       "      <td>NaN</td>\n",
       "      <td>NaN</td>\n",
       "      <td>NaN</td>\n",
       "      <td>NaN</td>\n",
       "      <td>NaN</td>\n",
       "      <td>NaN</td>\n",
       "      <td>NaN</td>\n",
       "      <td>NaN</td>\n",
       "    </tr>\n",
       "    <tr>\n",
       "      <th>4</th>\n",
       "      <td>Läsår\\nHuvudman\\nBakgrund</td>\n",
       "      <td>Elever som avslutat åk 9 som fått eller skulle...</td>\n",
       "      <td>NaN</td>\n",
       "      <td>NaN</td>\n",
       "      <td>NaN</td>\n",
       "      <td>NaN</td>\n",
       "      <td>NaN</td>\n",
       "      <td>NaN</td>\n",
       "      <td>NaN</td>\n",
       "      <td>NaN</td>\n",
       "    </tr>\n",
       "    <tr>\n",
       "      <th>5</th>\n",
       "      <td>NaN</td>\n",
       "      <td>Genomsnittligt meritvärde beräknat på 16 ämnen</td>\n",
       "      <td>NaN</td>\n",
       "      <td>NaN</td>\n",
       "      <td>Genomsnittligt meritvärde beräknat på 17 ämnen3</td>\n",
       "      <td>NaN</td>\n",
       "      <td>NaN</td>\n",
       "      <td>Andel (%) elever som saknar godkänt betyg i et...</td>\n",
       "      <td>NaN</td>\n",
       "      <td>NaN</td>\n",
       "    </tr>\n",
       "    <tr>\n",
       "      <th>6</th>\n",
       "      <td>NaN</td>\n",
       "      <td>Totalt</td>\n",
       "      <td>Flickor</td>\n",
       "      <td>Pojkar</td>\n",
       "      <td>Totalt</td>\n",
       "      <td>Flickor</td>\n",
       "      <td>Pojkar</td>\n",
       "      <td>Totalt</td>\n",
       "      <td>Flickor</td>\n",
       "      <td>Pojkar</td>\n",
       "    </tr>\n",
       "    <tr>\n",
       "      <th>7</th>\n",
       "      <td>2018/19</td>\n",
       "      <td>221.7</td>\n",
       "      <td>234.3</td>\n",
       "      <td>209.8</td>\n",
       "      <td>229.8</td>\n",
       "      <td>243.3</td>\n",
       "      <td>217</td>\n",
       "      <td>24.5</td>\n",
       "      <td>21.7</td>\n",
       "      <td>27.2</td>\n",
       "    </tr>\n",
       "    <tr>\n",
       "      <th>8</th>\n",
       "      <td>2019/20</td>\n",
       "      <td>222.9</td>\n",
       "      <td>235.7</td>\n",
       "      <td>210.9</td>\n",
       "      <td>231.1</td>\n",
       "      <td>244.9</td>\n",
       "      <td>218.2</td>\n",
       "      <td>23.9</td>\n",
       "      <td>21.4</td>\n",
       "      <td>26.3</td>\n",
       "    </tr>\n",
       "    <tr>\n",
       "      <th>9</th>\n",
       "      <td>2020/21</td>\n",
       "      <td>223.9</td>\n",
       "      <td>235.4</td>\n",
       "      <td>212.9</td>\n",
       "      <td>232.1</td>\n",
       "      <td>244.4</td>\n",
       "      <td>220.3</td>\n",
       "      <td>23.9</td>\n",
       "      <td>21.9</td>\n",
       "      <td>25.9</td>\n",
       "    </tr>\n",
       "    <tr>\n",
       "      <th>10</th>\n",
       "      <td>2021/22</td>\n",
       "      <td>221.2</td>\n",
       "      <td>231.6</td>\n",
       "      <td>211.4</td>\n",
       "      <td>229.2</td>\n",
       "      <td>240.3</td>\n",
       "      <td>218.8</td>\n",
       "      <td>25.9</td>\n",
       "      <td>24.2</td>\n",
       "      <td>27.5</td>\n",
       "    </tr>\n",
       "    <tr>\n",
       "      <th>11</th>\n",
       "      <td>2022/23</td>\n",
       "      <td>220.6</td>\n",
       "      <td>229.7</td>\n",
       "      <td>211.9</td>\n",
       "      <td>228.5</td>\n",
       "      <td>238.2</td>\n",
       "      <td>219.3</td>\n",
       "      <td>26.8</td>\n",
       "      <td>25.5</td>\n",
       "      <td>28</td>\n",
       "    </tr>\n",
       "    <tr>\n",
       "      <th>12</th>\n",
       "      <td>därav</td>\n",
       "      <td>NaN</td>\n",
       "      <td>NaN</td>\n",
       "      <td>NaN</td>\n",
       "      <td>NaN</td>\n",
       "      <td>NaN</td>\n",
       "      <td>NaN</td>\n",
       "      <td>NaN</td>\n",
       "      <td>NaN</td>\n",
       "      <td>NaN</td>\n",
       "    </tr>\n",
       "    <tr>\n",
       "      <th>13</th>\n",
       "      <td>Kommun</td>\n",
       "      <td>216.1</td>\n",
       "      <td>225.6</td>\n",
       "      <td>207.2</td>\n",
       "      <td>223.6</td>\n",
       "      <td>233.8</td>\n",
       "      <td>214.1</td>\n",
       "      <td>28.9</td>\n",
       "      <td>27.4</td>\n",
       "      <td>30.3</td>\n",
       "    </tr>\n",
       "    <tr>\n",
       "      <th>14</th>\n",
       "      <td>Enskild</td>\n",
       "      <td>237.9</td>\n",
       "      <td>245</td>\n",
       "      <td>230.8</td>\n",
       "      <td>247.2</td>\n",
       "      <td>254.8</td>\n",
       "      <td>239.7</td>\n",
       "      <td>18.7</td>\n",
       "      <td>18.4</td>\n",
       "      <td>19</td>\n",
       "    </tr>\n",
       "    <tr>\n",
       "      <th>15</th>\n",
       "      <td>därav</td>\n",
       "      <td>NaN</td>\n",
       "      <td>NaN</td>\n",
       "      <td>NaN</td>\n",
       "      <td>NaN</td>\n",
       "      <td>NaN</td>\n",
       "      <td>NaN</td>\n",
       "      <td>NaN</td>\n",
       "      <td>NaN</td>\n",
       "      <td>NaN</td>\n",
       "    </tr>\n",
       "    <tr>\n",
       "      <th>16</th>\n",
       "      <td>Allmän inriktning</td>\n",
       "      <td>238.5</td>\n",
       "      <td>245.8</td>\n",
       "      <td>231.2</td>\n",
       "      <td>247.9</td>\n",
       "      <td>255.7</td>\n",
       "      <td>240.1</td>\n",
       "      <td>18</td>\n",
       "      <td>17.7</td>\n",
       "      <td>18.3</td>\n",
       "    </tr>\n",
       "    <tr>\n",
       "      <th>17</th>\n",
       "      <td>Konfessionell</td>\n",
       "      <td>225.6</td>\n",
       "      <td>230.5</td>\n",
       "      <td>220.5</td>\n",
       "      <td>233.2</td>\n",
       "      <td>238.4</td>\n",
       "      <td>227.8</td>\n",
       "      <td>29.4</td>\n",
       "      <td>29.5</td>\n",
       "      <td>29.4</td>\n",
       "    </tr>\n",
       "    <tr>\n",
       "      <th>18</th>\n",
       "      <td>Waldorf</td>\n",
       "      <td>236.3</td>\n",
       "      <td>239</td>\n",
       "      <td>233.9</td>\n",
       "      <td>244.3</td>\n",
       "      <td>247.1</td>\n",
       "      <td>241.7</td>\n",
       "      <td>25.6</td>\n",
       "      <td>25.3</td>\n",
       "      <td>25.8</td>\n",
       "    </tr>\n",
       "    <tr>\n",
       "      <th>19</th>\n",
       "      <td>Elever med svensk bakgrund</td>\n",
       "      <td>227.4</td>\n",
       "      <td>236.3</td>\n",
       "      <td>219.1</td>\n",
       "      <td>236</td>\n",
       "      <td>245.4</td>\n",
       "      <td>227.1</td>\n",
       "      <td>21.4</td>\n",
       "      <td>20.5</td>\n",
       "      <td>22.2</td>\n",
       "    </tr>\n",
       "    <tr>\n",
       "      <th>20</th>\n",
       "      <td>Elever med utländsk bakgrund</td>\n",
       "      <td>204</td>\n",
       "      <td>214.1</td>\n",
       "      <td>194.5</td>\n",
       "      <td>210.2</td>\n",
       "      <td>221</td>\n",
       "      <td>200.1</td>\n",
       "      <td>40.2</td>\n",
       "      <td>37.8</td>\n",
       "      <td>42.5</td>\n",
       "    </tr>\n",
       "    <tr>\n",
       "      <th>21</th>\n",
       "      <td>därav</td>\n",
       "      <td>NaN</td>\n",
       "      <td>NaN</td>\n",
       "      <td>NaN</td>\n",
       "      <td>NaN</td>\n",
       "      <td>NaN</td>\n",
       "      <td>NaN</td>\n",
       "      <td>NaN</td>\n",
       "      <td>NaN</td>\n",
       "      <td>NaN</td>\n",
       "    </tr>\n",
       "    <tr>\n",
       "      <th>22</th>\n",
       "      <td>Födda i Sverige</td>\n",
       "      <td>215.5</td>\n",
       "      <td>224.7</td>\n",
       "      <td>206.6</td>\n",
       "      <td>223</td>\n",
       "      <td>232.8</td>\n",
       "      <td>213.5</td>\n",
       "      <td>32.6</td>\n",
       "      <td>30.8</td>\n",
       "      <td>34.3</td>\n",
       "    </tr>\n",
       "    <tr>\n",
       "      <th>23</th>\n",
       "      <td>Födda utomlands, inv. före 2014</td>\n",
       "      <td>217.4</td>\n",
       "      <td>227.6</td>\n",
       "      <td>208</td>\n",
       "      <td>224.8</td>\n",
       "      <td>235.8</td>\n",
       "      <td>214.7</td>\n",
       "      <td>32</td>\n",
       "      <td>29.8</td>\n",
       "      <td>34</td>\n",
       "    </tr>\n",
       "    <tr>\n",
       "      <th>24</th>\n",
       "      <td>Födda utomlands, inv. 2014 el. senare</td>\n",
       "      <td>182.1</td>\n",
       "      <td>193.1</td>\n",
       "      <td>171.8</td>\n",
       "      <td>186.1</td>\n",
       "      <td>197.7</td>\n",
       "      <td>175.1</td>\n",
       "      <td>54.3</td>\n",
       "      <td>51.1</td>\n",
       "      <td>57.2</td>\n",
       "    </tr>\n",
       "    <tr>\n",
       "      <th>25</th>\n",
       "      <td>Totalt exkl. nyinvandrade elever och okänd bak...</td>\n",
       "      <td>223</td>\n",
       "      <td>232.1</td>\n",
       "      <td>214.3</td>\n",
       "      <td>231.1</td>\n",
       "      <td>240.9</td>\n",
       "      <td>221.7</td>\n",
       "      <td>25.2</td>\n",
       "      <td>24</td>\n",
       "      <td>26.4</td>\n",
       "    </tr>\n",
       "    <tr>\n",
       "      <th>26</th>\n",
       "      <td>Nyinvandrade elever</td>\n",
       "      <td>144.8</td>\n",
       "      <td>152</td>\n",
       "      <td>138.2</td>\n",
       "      <td>146.2</td>\n",
       "      <td>153.6</td>\n",
       "      <td>139.3</td>\n",
       "      <td>75</td>\n",
       "      <td>72.9</td>\n",
       "      <td>77</td>\n",
       "    </tr>\n",
       "    <tr>\n",
       "      <th>27</th>\n",
       "      <td>Elever med okänd bakgrund</td>\n",
       "      <td>133.3</td>\n",
       "      <td>133.9</td>\n",
       "      <td>132.8</td>\n",
       "      <td>135.2</td>\n",
       "      <td>135.8</td>\n",
       "      <td>134.6</td>\n",
       "      <td>77.9</td>\n",
       "      <td>79.8</td>\n",
       "      <td>76.1</td>\n",
       "    </tr>\n",
       "    <tr>\n",
       "      <th>28</th>\n",
       "      <td>Föräldrarnas högsta utbildning2</td>\n",
       "      <td>NaN</td>\n",
       "      <td>NaN</td>\n",
       "      <td>NaN</td>\n",
       "      <td>NaN</td>\n",
       "      <td>NaN</td>\n",
       "      <td>NaN</td>\n",
       "      <td>NaN</td>\n",
       "      <td>NaN</td>\n",
       "      <td>NaN</td>\n",
       "    </tr>\n",
       "    <tr>\n",
       "      <th>29</th>\n",
       "      <td>Förgymnasial utbildning</td>\n",
       "      <td>163.8</td>\n",
       "      <td>172.2</td>\n",
       "      <td>155.8</td>\n",
       "      <td>166.8</td>\n",
       "      <td>175.6</td>\n",
       "      <td>158.3</td>\n",
       "      <td>63.5</td>\n",
       "      <td>61.5</td>\n",
       "      <td>65.3</td>\n",
       "    </tr>\n",
       "    <tr>\n",
       "      <th>30</th>\n",
       "      <td>Gymnasial utbildning</td>\n",
       "      <td>197.4</td>\n",
       "      <td>207.2</td>\n",
       "      <td>188.2</td>\n",
       "      <td>203.2</td>\n",
       "      <td>213.6</td>\n",
       "      <td>193.3</td>\n",
       "      <td>37.4</td>\n",
       "      <td>35.2</td>\n",
       "      <td>39.5</td>\n",
       "    </tr>\n",
       "    <tr>\n",
       "      <th>31</th>\n",
       "      <td>Eftergymnasial utbildning</td>\n",
       "      <td>239.1</td>\n",
       "      <td>247.9</td>\n",
       "      <td>230.7</td>\n",
       "      <td>248.6</td>\n",
       "      <td>258.1</td>\n",
       "      <td>239.6</td>\n",
       "      <td>16.8</td>\n",
       "      <td>16.1</td>\n",
       "      <td>17.5</td>\n",
       "    </tr>\n",
       "    <tr>\n",
       "      <th>32</th>\n",
       "      <td>därav</td>\n",
       "      <td>NaN</td>\n",
       "      <td>NaN</td>\n",
       "      <td>NaN</td>\n",
       "      <td>NaN</td>\n",
       "      <td>NaN</td>\n",
       "      <td>NaN</td>\n",
       "      <td>NaN</td>\n",
       "      <td>NaN</td>\n",
       "      <td>NaN</td>\n",
       "    </tr>\n",
       "    <tr>\n",
       "      <th>33</th>\n",
       "      <td>Kort utbildning</td>\n",
       "      <td>218.9</td>\n",
       "      <td>228.4</td>\n",
       "      <td>209.7</td>\n",
       "      <td>226.5</td>\n",
       "      <td>236.6</td>\n",
       "      <td>216.6</td>\n",
       "      <td>26.1</td>\n",
       "      <td>24.5</td>\n",
       "      <td>27.5</td>\n",
       "    </tr>\n",
       "    <tr>\n",
       "      <th>34</th>\n",
       "      <td>Lång utbildning</td>\n",
       "      <td>245.8</td>\n",
       "      <td>254.5</td>\n",
       "      <td>237.6</td>\n",
       "      <td>256</td>\n",
       "      <td>265.3</td>\n",
       "      <td>247.2</td>\n",
       "      <td>13.7</td>\n",
       "      <td>13.3</td>\n",
       "      <td>14.1</td>\n",
       "    </tr>\n",
       "  </tbody>\n",
       "</table>\n",
       "</div>"
      ],
      "text/plain": [
       "              Grundskolan – Betyg och Prov – Riksnivå  \\\n",
       "0                                                       \n",
       "1                                                       \n",
       "2   Tabell 1B: Resultat av slutbetyg för elever so...   \n",
       "3                                                 NaN   \n",
       "4                           Läsår\\nHuvudman\\nBakgrund   \n",
       "5                                                 NaN   \n",
       "6                                                 NaN   \n",
       "7                                             2018/19   \n",
       "8                                             2019/20   \n",
       "9                                             2020/21   \n",
       "10                                            2021/22   \n",
       "11                                            2022/23   \n",
       "12                                              därav   \n",
       "13                                             Kommun   \n",
       "14                                            Enskild   \n",
       "15                                              därav   \n",
       "16                                  Allmän inriktning   \n",
       "17                                      Konfessionell   \n",
       "18                                            Waldorf   \n",
       "19                         Elever med svensk bakgrund   \n",
       "20                       Elever med utländsk bakgrund   \n",
       "21                                              därav   \n",
       "22                                    Födda i Sverige   \n",
       "23                    Födda utomlands, inv. före 2014   \n",
       "24              Födda utomlands, inv. 2014 el. senare   \n",
       "25  Totalt exkl. nyinvandrade elever och okänd bak...   \n",
       "26                                Nyinvandrade elever   \n",
       "27                          Elever med okänd bakgrund   \n",
       "28                    Föräldrarnas högsta utbildning2   \n",
       "29                            Förgymnasial utbildning   \n",
       "30                               Gymnasial utbildning   \n",
       "31                          Eftergymnasial utbildning   \n",
       "32                                              därav   \n",
       "33                                    Kort utbildning   \n",
       "34                                    Lång utbildning   \n",
       "\n",
       "                                           Unnamed: 1 Unnamed: 2 Unnamed: 3  \\\n",
       "0                                                 NaN        NaN        NaN   \n",
       "1                                                 NaN        NaN        NaN   \n",
       "2                                                 NaN        NaN        NaN   \n",
       "3                                                 NaN        NaN        NaN   \n",
       "4   Elever som avslutat åk 9 som fått eller skulle...        NaN        NaN   \n",
       "5      Genomsnittligt meritvärde beräknat på 16 ämnen        NaN        NaN   \n",
       "6                                              Totalt    Flickor     Pojkar   \n",
       "7                                               221.7      234.3      209.8   \n",
       "8                                               222.9      235.7      210.9   \n",
       "9                                               223.9      235.4      212.9   \n",
       "10                                              221.2      231.6      211.4   \n",
       "11                                              220.6      229.7      211.9   \n",
       "12                                                NaN        NaN        NaN   \n",
       "13                                              216.1      225.6      207.2   \n",
       "14                                              237.9        245      230.8   \n",
       "15                                                NaN        NaN        NaN   \n",
       "16                                              238.5      245.8      231.2   \n",
       "17                                              225.6      230.5      220.5   \n",
       "18                                              236.3        239      233.9   \n",
       "19                                              227.4      236.3      219.1   \n",
       "20                                                204      214.1      194.5   \n",
       "21                                                NaN        NaN        NaN   \n",
       "22                                              215.5      224.7      206.6   \n",
       "23                                              217.4      227.6        208   \n",
       "24                                              182.1      193.1      171.8   \n",
       "25                                                223      232.1      214.3   \n",
       "26                                              144.8        152      138.2   \n",
       "27                                              133.3      133.9      132.8   \n",
       "28                                                NaN        NaN        NaN   \n",
       "29                                              163.8      172.2      155.8   \n",
       "30                                              197.4      207.2      188.2   \n",
       "31                                              239.1      247.9      230.7   \n",
       "32                                                NaN        NaN        NaN   \n",
       "33                                              218.9      228.4      209.7   \n",
       "34                                              245.8      254.5      237.6   \n",
       "\n",
       "                                         Unnamed: 4 Unnamed: 5 Unnamed: 6  \\\n",
       "0                                               NaN        NaN        NaN   \n",
       "1                                               NaN        NaN        NaN   \n",
       "2                                               NaN        NaN        NaN   \n",
       "3                                               NaN        NaN        NaN   \n",
       "4                                               NaN        NaN        NaN   \n",
       "5   Genomsnittligt meritvärde beräknat på 17 ämnen3        NaN        NaN   \n",
       "6                                            Totalt    Flickor     Pojkar   \n",
       "7                                             229.8      243.3        217   \n",
       "8                                             231.1      244.9      218.2   \n",
       "9                                             232.1      244.4      220.3   \n",
       "10                                            229.2      240.3      218.8   \n",
       "11                                            228.5      238.2      219.3   \n",
       "12                                              NaN        NaN        NaN   \n",
       "13                                            223.6      233.8      214.1   \n",
       "14                                            247.2      254.8      239.7   \n",
       "15                                              NaN        NaN        NaN   \n",
       "16                                            247.9      255.7      240.1   \n",
       "17                                            233.2      238.4      227.8   \n",
       "18                                            244.3      247.1      241.7   \n",
       "19                                              236      245.4      227.1   \n",
       "20                                            210.2        221      200.1   \n",
       "21                                              NaN        NaN        NaN   \n",
       "22                                              223      232.8      213.5   \n",
       "23                                            224.8      235.8      214.7   \n",
       "24                                            186.1      197.7      175.1   \n",
       "25                                            231.1      240.9      221.7   \n",
       "26                                            146.2      153.6      139.3   \n",
       "27                                            135.2      135.8      134.6   \n",
       "28                                              NaN        NaN        NaN   \n",
       "29                                            166.8      175.6      158.3   \n",
       "30                                            203.2      213.6      193.3   \n",
       "31                                            248.6      258.1      239.6   \n",
       "32                                              NaN        NaN        NaN   \n",
       "33                                            226.5      236.6      216.6   \n",
       "34                                              256      265.3      247.2   \n",
       "\n",
       "                                           Unnamed: 7 Unnamed: 8 Unnamed: 9  \n",
       "0                                                 NaN        NaN        NaN  \n",
       "1                                                 NaN        NaN        NaN  \n",
       "2                                                 NaN        NaN        NaN  \n",
       "3                                                 NaN        NaN        NaN  \n",
       "4                                                 NaN        NaN        NaN  \n",
       "5   Andel (%) elever som saknar godkänt betyg i et...        NaN        NaN  \n",
       "6                                              Totalt    Flickor     Pojkar  \n",
       "7                                                24.5       21.7       27.2  \n",
       "8                                                23.9       21.4       26.3  \n",
       "9                                                23.9       21.9       25.9  \n",
       "10                                               25.9       24.2       27.5  \n",
       "11                                               26.8       25.5         28  \n",
       "12                                                NaN        NaN        NaN  \n",
       "13                                               28.9       27.4       30.3  \n",
       "14                                               18.7       18.4         19  \n",
       "15                                                NaN        NaN        NaN  \n",
       "16                                                 18       17.7       18.3  \n",
       "17                                               29.4       29.5       29.4  \n",
       "18                                               25.6       25.3       25.8  \n",
       "19                                               21.4       20.5       22.2  \n",
       "20                                               40.2       37.8       42.5  \n",
       "21                                                NaN        NaN        NaN  \n",
       "22                                               32.6       30.8       34.3  \n",
       "23                                                 32       29.8         34  \n",
       "24                                               54.3       51.1       57.2  \n",
       "25                                               25.2         24       26.4  \n",
       "26                                                 75       72.9         77  \n",
       "27                                               77.9       79.8       76.1  \n",
       "28                                                NaN        NaN        NaN  \n",
       "29                                               63.5       61.5       65.3  \n",
       "30                                               37.4       35.2       39.5  \n",
       "31                                               16.8       16.1       17.5  \n",
       "32                                                NaN        NaN        NaN  \n",
       "33                                               26.1       24.5       27.5  \n",
       "34                                               13.7       13.3       14.1  "
      ]
     },
     "execution_count": 49,
     "metadata": {},
     "output_type": "execute_result"
    }
   ],
   "source": [
    "# I uppgifterna nedan ska du använda dig av datasetet betyg_o_prov_riksnivå.xlsx. Använd Plotly för att rita diagrammen\n",
    "# nedan för de uppgifter som kräver diagram. Använd Pandas för att svara på frågor om datasetet.\n",
    "\n",
    "import pandas as pd\n",
    "import plotly.express as px\n",
    "\n",
    "df = pd.read_excel(\"excel/betyg_o_prov_riksnivå.xlsx\")\n",
    "df_students = pd.read_excel(\"excel/betyg_o_prov_riksnivå.xlsx\", sheet_name=\"Tabell 1A\", header=5)\n",
    "df_grades = pd.read_excel(\"excel/betyg_o_prov_riksnivå.xlsx\", sheet_name=\"Tabell 1B\")\n",
    "\n",
    "\n",
    "df_students\n",
    "df_grades"
   ]
  },
  {
   "cell_type": "code",
   "execution_count": 50,
   "metadata": {},
   "outputs": [
    {
     "data": {
      "text/html": [
       "<div>\n",
       "<style scoped>\n",
       "    .dataframe tbody tr th:only-of-type {\n",
       "        vertical-align: middle;\n",
       "    }\n",
       "\n",
       "    .dataframe tbody tr th {\n",
       "        vertical-align: top;\n",
       "    }\n",
       "\n",
       "    .dataframe thead th {\n",
       "        text-align: right;\n",
       "    }\n",
       "</style>\n",
       "<table border=\"1\" class=\"dataframe\">\n",
       "  <thead>\n",
       "    <tr style=\"text-align: right;\">\n",
       "      <th></th>\n",
       "      <th>Key</th>\n",
       "      <th>Totalt 16</th>\n",
       "      <th>Flickor 16</th>\n",
       "      <th>Pojkar 16</th>\n",
       "      <th>Totalt 17</th>\n",
       "      <th>Flickor 17</th>\n",
       "      <th>Pojkar 17</th>\n",
       "      <th>Totalt %</th>\n",
       "      <th>Flickor %</th>\n",
       "      <th>Pojkar %</th>\n",
       "    </tr>\n",
       "  </thead>\n",
       "  <tbody>\n",
       "    <tr>\n",
       "      <th>0</th>\n",
       "      <td>2018/19</td>\n",
       "      <td>221.7</td>\n",
       "      <td>234.3</td>\n",
       "      <td>209.8</td>\n",
       "      <td>229.8</td>\n",
       "      <td>243.3</td>\n",
       "      <td>217</td>\n",
       "      <td>24.5</td>\n",
       "      <td>21.7</td>\n",
       "      <td>27.2</td>\n",
       "    </tr>\n",
       "    <tr>\n",
       "      <th>1</th>\n",
       "      <td>2019/20</td>\n",
       "      <td>222.9</td>\n",
       "      <td>235.7</td>\n",
       "      <td>210.9</td>\n",
       "      <td>231.1</td>\n",
       "      <td>244.9</td>\n",
       "      <td>218.2</td>\n",
       "      <td>23.9</td>\n",
       "      <td>21.4</td>\n",
       "      <td>26.3</td>\n",
       "    </tr>\n",
       "    <tr>\n",
       "      <th>2</th>\n",
       "      <td>2020/21</td>\n",
       "      <td>223.9</td>\n",
       "      <td>235.4</td>\n",
       "      <td>212.9</td>\n",
       "      <td>232.1</td>\n",
       "      <td>244.4</td>\n",
       "      <td>220.3</td>\n",
       "      <td>23.9</td>\n",
       "      <td>21.9</td>\n",
       "      <td>25.9</td>\n",
       "    </tr>\n",
       "    <tr>\n",
       "      <th>3</th>\n",
       "      <td>2021/22</td>\n",
       "      <td>221.2</td>\n",
       "      <td>231.6</td>\n",
       "      <td>211.4</td>\n",
       "      <td>229.2</td>\n",
       "      <td>240.3</td>\n",
       "      <td>218.8</td>\n",
       "      <td>25.9</td>\n",
       "      <td>24.2</td>\n",
       "      <td>27.5</td>\n",
       "    </tr>\n",
       "    <tr>\n",
       "      <th>4</th>\n",
       "      <td>2022/23</td>\n",
       "      <td>220.6</td>\n",
       "      <td>229.7</td>\n",
       "      <td>211.9</td>\n",
       "      <td>228.5</td>\n",
       "      <td>238.2</td>\n",
       "      <td>219.3</td>\n",
       "      <td>26.8</td>\n",
       "      <td>25.5</td>\n",
       "      <td>28</td>\n",
       "    </tr>\n",
       "    <tr>\n",
       "      <th>5</th>\n",
       "      <td>Kommun</td>\n",
       "      <td>216.1</td>\n",
       "      <td>225.6</td>\n",
       "      <td>207.2</td>\n",
       "      <td>223.6</td>\n",
       "      <td>233.8</td>\n",
       "      <td>214.1</td>\n",
       "      <td>28.9</td>\n",
       "      <td>27.4</td>\n",
       "      <td>30.3</td>\n",
       "    </tr>\n",
       "    <tr>\n",
       "      <th>6</th>\n",
       "      <td>Enskild</td>\n",
       "      <td>237.9</td>\n",
       "      <td>245</td>\n",
       "      <td>230.8</td>\n",
       "      <td>247.2</td>\n",
       "      <td>254.8</td>\n",
       "      <td>239.7</td>\n",
       "      <td>18.7</td>\n",
       "      <td>18.4</td>\n",
       "      <td>19</td>\n",
       "    </tr>\n",
       "    <tr>\n",
       "      <th>7</th>\n",
       "      <td>Allmän inriktning</td>\n",
       "      <td>238.5</td>\n",
       "      <td>245.8</td>\n",
       "      <td>231.2</td>\n",
       "      <td>247.9</td>\n",
       "      <td>255.7</td>\n",
       "      <td>240.1</td>\n",
       "      <td>18</td>\n",
       "      <td>17.7</td>\n",
       "      <td>18.3</td>\n",
       "    </tr>\n",
       "    <tr>\n",
       "      <th>8</th>\n",
       "      <td>Konfessionell</td>\n",
       "      <td>225.6</td>\n",
       "      <td>230.5</td>\n",
       "      <td>220.5</td>\n",
       "      <td>233.2</td>\n",
       "      <td>238.4</td>\n",
       "      <td>227.8</td>\n",
       "      <td>29.4</td>\n",
       "      <td>29.5</td>\n",
       "      <td>29.4</td>\n",
       "    </tr>\n",
       "    <tr>\n",
       "      <th>9</th>\n",
       "      <td>Waldorf</td>\n",
       "      <td>236.3</td>\n",
       "      <td>239</td>\n",
       "      <td>233.9</td>\n",
       "      <td>244.3</td>\n",
       "      <td>247.1</td>\n",
       "      <td>241.7</td>\n",
       "      <td>25.6</td>\n",
       "      <td>25.3</td>\n",
       "      <td>25.8</td>\n",
       "    </tr>\n",
       "    <tr>\n",
       "      <th>10</th>\n",
       "      <td>Elever med svensk bakgrund</td>\n",
       "      <td>227.4</td>\n",
       "      <td>236.3</td>\n",
       "      <td>219.1</td>\n",
       "      <td>236</td>\n",
       "      <td>245.4</td>\n",
       "      <td>227.1</td>\n",
       "      <td>21.4</td>\n",
       "      <td>20.5</td>\n",
       "      <td>22.2</td>\n",
       "    </tr>\n",
       "    <tr>\n",
       "      <th>11</th>\n",
       "      <td>Elever med utländsk bakgrund</td>\n",
       "      <td>204</td>\n",
       "      <td>214.1</td>\n",
       "      <td>194.5</td>\n",
       "      <td>210.2</td>\n",
       "      <td>221</td>\n",
       "      <td>200.1</td>\n",
       "      <td>40.2</td>\n",
       "      <td>37.8</td>\n",
       "      <td>42.5</td>\n",
       "    </tr>\n",
       "    <tr>\n",
       "      <th>12</th>\n",
       "      <td>Födda i Sverige</td>\n",
       "      <td>215.5</td>\n",
       "      <td>224.7</td>\n",
       "      <td>206.6</td>\n",
       "      <td>223</td>\n",
       "      <td>232.8</td>\n",
       "      <td>213.5</td>\n",
       "      <td>32.6</td>\n",
       "      <td>30.8</td>\n",
       "      <td>34.3</td>\n",
       "    </tr>\n",
       "    <tr>\n",
       "      <th>13</th>\n",
       "      <td>Födda utomlands, inv. före 2014</td>\n",
       "      <td>217.4</td>\n",
       "      <td>227.6</td>\n",
       "      <td>208</td>\n",
       "      <td>224.8</td>\n",
       "      <td>235.8</td>\n",
       "      <td>214.7</td>\n",
       "      <td>32</td>\n",
       "      <td>29.8</td>\n",
       "      <td>34</td>\n",
       "    </tr>\n",
       "    <tr>\n",
       "      <th>14</th>\n",
       "      <td>Födda utomlands, inv. 2014 el. senare</td>\n",
       "      <td>182.1</td>\n",
       "      <td>193.1</td>\n",
       "      <td>171.8</td>\n",
       "      <td>186.1</td>\n",
       "      <td>197.7</td>\n",
       "      <td>175.1</td>\n",
       "      <td>54.3</td>\n",
       "      <td>51.1</td>\n",
       "      <td>57.2</td>\n",
       "    </tr>\n",
       "    <tr>\n",
       "      <th>15</th>\n",
       "      <td>Totalt exkl. nyinvandrade elever och okänd bak...</td>\n",
       "      <td>223</td>\n",
       "      <td>232.1</td>\n",
       "      <td>214.3</td>\n",
       "      <td>231.1</td>\n",
       "      <td>240.9</td>\n",
       "      <td>221.7</td>\n",
       "      <td>25.2</td>\n",
       "      <td>24</td>\n",
       "      <td>26.4</td>\n",
       "    </tr>\n",
       "    <tr>\n",
       "      <th>16</th>\n",
       "      <td>Nyinvandrade elever</td>\n",
       "      <td>144.8</td>\n",
       "      <td>152</td>\n",
       "      <td>138.2</td>\n",
       "      <td>146.2</td>\n",
       "      <td>153.6</td>\n",
       "      <td>139.3</td>\n",
       "      <td>75</td>\n",
       "      <td>72.9</td>\n",
       "      <td>77</td>\n",
       "    </tr>\n",
       "    <tr>\n",
       "      <th>17</th>\n",
       "      <td>Elever med okänd bakgrund</td>\n",
       "      <td>133.3</td>\n",
       "      <td>133.9</td>\n",
       "      <td>132.8</td>\n",
       "      <td>135.2</td>\n",
       "      <td>135.8</td>\n",
       "      <td>134.6</td>\n",
       "      <td>77.9</td>\n",
       "      <td>79.8</td>\n",
       "      <td>76.1</td>\n",
       "    </tr>\n",
       "    <tr>\n",
       "      <th>18</th>\n",
       "      <td>Förgymnasial utbildning</td>\n",
       "      <td>163.8</td>\n",
       "      <td>172.2</td>\n",
       "      <td>155.8</td>\n",
       "      <td>166.8</td>\n",
       "      <td>175.6</td>\n",
       "      <td>158.3</td>\n",
       "      <td>63.5</td>\n",
       "      <td>61.5</td>\n",
       "      <td>65.3</td>\n",
       "    </tr>\n",
       "    <tr>\n",
       "      <th>19</th>\n",
       "      <td>Gymnasial utbildning</td>\n",
       "      <td>197.4</td>\n",
       "      <td>207.2</td>\n",
       "      <td>188.2</td>\n",
       "      <td>203.2</td>\n",
       "      <td>213.6</td>\n",
       "      <td>193.3</td>\n",
       "      <td>37.4</td>\n",
       "      <td>35.2</td>\n",
       "      <td>39.5</td>\n",
       "    </tr>\n",
       "    <tr>\n",
       "      <th>20</th>\n",
       "      <td>Eftergymnasial utbildning</td>\n",
       "      <td>239.1</td>\n",
       "      <td>247.9</td>\n",
       "      <td>230.7</td>\n",
       "      <td>248.6</td>\n",
       "      <td>258.1</td>\n",
       "      <td>239.6</td>\n",
       "      <td>16.8</td>\n",
       "      <td>16.1</td>\n",
       "      <td>17.5</td>\n",
       "    </tr>\n",
       "    <tr>\n",
       "      <th>21</th>\n",
       "      <td>Kort utbildning</td>\n",
       "      <td>218.9</td>\n",
       "      <td>228.4</td>\n",
       "      <td>209.7</td>\n",
       "      <td>226.5</td>\n",
       "      <td>236.6</td>\n",
       "      <td>216.6</td>\n",
       "      <td>26.1</td>\n",
       "      <td>24.5</td>\n",
       "      <td>27.5</td>\n",
       "    </tr>\n",
       "    <tr>\n",
       "      <th>22</th>\n",
       "      <td>Lång utbildning</td>\n",
       "      <td>245.8</td>\n",
       "      <td>254.5</td>\n",
       "      <td>237.6</td>\n",
       "      <td>256</td>\n",
       "      <td>265.3</td>\n",
       "      <td>247.2</td>\n",
       "      <td>13.7</td>\n",
       "      <td>13.3</td>\n",
       "      <td>14.1</td>\n",
       "    </tr>\n",
       "  </tbody>\n",
       "</table>\n",
       "</div>"
      ],
      "text/plain": [
       "                                                  Key Totalt 16 Flickor 16  \\\n",
       "0                                             2018/19     221.7      234.3   \n",
       "1                                             2019/20     222.9      235.7   \n",
       "2                                             2020/21     223.9      235.4   \n",
       "3                                             2021/22     221.2      231.6   \n",
       "4                                             2022/23     220.6      229.7   \n",
       "5                                              Kommun     216.1      225.6   \n",
       "6                                             Enskild     237.9        245   \n",
       "7                                   Allmän inriktning     238.5      245.8   \n",
       "8                                       Konfessionell     225.6      230.5   \n",
       "9                                             Waldorf     236.3        239   \n",
       "10                         Elever med svensk bakgrund     227.4      236.3   \n",
       "11                       Elever med utländsk bakgrund       204      214.1   \n",
       "12                                    Födda i Sverige     215.5      224.7   \n",
       "13                    Födda utomlands, inv. före 2014     217.4      227.6   \n",
       "14              Födda utomlands, inv. 2014 el. senare     182.1      193.1   \n",
       "15  Totalt exkl. nyinvandrade elever och okänd bak...       223      232.1   \n",
       "16                                Nyinvandrade elever     144.8        152   \n",
       "17                          Elever med okänd bakgrund     133.3      133.9   \n",
       "18                            Förgymnasial utbildning     163.8      172.2   \n",
       "19                               Gymnasial utbildning     197.4      207.2   \n",
       "20                          Eftergymnasial utbildning     239.1      247.9   \n",
       "21                                    Kort utbildning     218.9      228.4   \n",
       "22                                    Lång utbildning     245.8      254.5   \n",
       "\n",
       "   Pojkar 16 Totalt 17 Flickor 17 Pojkar 17 Totalt % Flickor % Pojkar %  \n",
       "0      209.8     229.8      243.3       217     24.5      21.7     27.2  \n",
       "1      210.9     231.1      244.9     218.2     23.9      21.4     26.3  \n",
       "2      212.9     232.1      244.4     220.3     23.9      21.9     25.9  \n",
       "3      211.4     229.2      240.3     218.8     25.9      24.2     27.5  \n",
       "4      211.9     228.5      238.2     219.3     26.8      25.5       28  \n",
       "5      207.2     223.6      233.8     214.1     28.9      27.4     30.3  \n",
       "6      230.8     247.2      254.8     239.7     18.7      18.4       19  \n",
       "7      231.2     247.9      255.7     240.1       18      17.7     18.3  \n",
       "8      220.5     233.2      238.4     227.8     29.4      29.5     29.4  \n",
       "9      233.9     244.3      247.1     241.7     25.6      25.3     25.8  \n",
       "10     219.1       236      245.4     227.1     21.4      20.5     22.2  \n",
       "11     194.5     210.2        221     200.1     40.2      37.8     42.5  \n",
       "12     206.6       223      232.8     213.5     32.6      30.8     34.3  \n",
       "13       208     224.8      235.8     214.7       32      29.8       34  \n",
       "14     171.8     186.1      197.7     175.1     54.3      51.1     57.2  \n",
       "15     214.3     231.1      240.9     221.7     25.2        24     26.4  \n",
       "16     138.2     146.2      153.6     139.3       75      72.9       77  \n",
       "17     132.8     135.2      135.8     134.6     77.9      79.8     76.1  \n",
       "18     155.8     166.8      175.6     158.3     63.5      61.5     65.3  \n",
       "19     188.2     203.2      213.6     193.3     37.4      35.2     39.5  \n",
       "20     230.7     248.6      258.1     239.6     16.8      16.1     17.5  \n",
       "21     209.7     226.5      236.6     216.6     26.1      24.5     27.5  \n",
       "22     237.6       256      265.3     247.2     13.7      13.3     14.1  "
      ]
     },
     "execution_count": 50,
     "metadata": {},
     "output_type": "execute_result"
    }
   ],
   "source": [
    "column_names_students = [\"Key\", \"Totalt (elever)\", \"Flickor (elever)\", \"Pojkar (elever)\", \n",
    "                \"Totalt (med slutbetyg)\", \"Flickor (med slutbetyg)\", \"Pojkar (med slutbetyg)\",\n",
    "                \"Totalt (godkända betyg)\", \"Flickor (godkända betyg)\", \"Pojkar (godkända betyg)\"]\n",
    "\n",
    "df_students = df_students.dropna().replace(\".\", 0).reset_index(drop=True)\n",
    "df_students.columns = column_names_students\n",
    "\n",
    "\n",
    "column_names_grades = [\"Key\", \"Totalt 16\", \"Flickor 16\", \"Pojkar 16\", \n",
    "                    \"Totalt 17\", \"Flickor 17\", \"Pojkar 17\",\n",
    "                    \"Totalt %\", \"Flickor %\", \"Pojkar %\"]\n",
    "\n",
    "df_grades.columns = column_names_grades\n",
    "df_grades = df_grades.dropna().replace(\".\", 0).reset_index(drop=True)\n",
    "\n",
    "df_students\n",
    "df_grades"
   ]
  },
  {
   "cell_type": "code",
   "execution_count": null,
   "metadata": {},
   "outputs": [
    {
     "data": {
      "application/vnd.plotly.v1+json": {
       "config": {
        "plotlyServerURL": "https://plot.ly"
       },
       "data": [
        {
         "hovertemplate": "variable=Totalt %<br>Key=%{x}<br>value=%{y}<extra></extra>",
         "legendgroup": "Totalt %",
         "line": {
          "color": "#636efa",
          "dash": "solid"
         },
         "marker": {
          "symbol": "circle"
         },
         "mode": "lines",
         "name": "Totalt %",
         "orientation": "v",
         "showlegend": true,
         "type": "scatter",
         "x": [
          "2018/19",
          "2019/20",
          "2020/21",
          "2021/22",
          "2022/23"
         ],
         "xaxis": "x",
         "y": [
          24.5,
          23.9,
          23.9,
          25.9,
          26.8
         ],
         "yaxis": "y"
        },
        {
         "hovertemplate": "variable=Flickor %<br>Key=%{x}<br>value=%{y}<extra></extra>",
         "legendgroup": "Flickor %",
         "line": {
          "color": "#EF553B",
          "dash": "solid"
         },
         "marker": {
          "symbol": "circle"
         },
         "mode": "lines",
         "name": "Flickor %",
         "orientation": "v",
         "showlegend": true,
         "type": "scatter",
         "x": [
          "2018/19",
          "2019/20",
          "2020/21",
          "2021/22",
          "2022/23"
         ],
         "xaxis": "x",
         "y": [
          21.7,
          21.4,
          21.9,
          24.2,
          25.5
         ],
         "yaxis": "y"
        },
        {
         "hovertemplate": "variable=Pojkar %<br>Key=%{x}<br>value=%{y}<extra></extra>",
         "legendgroup": "Pojkar %",
         "line": {
          "color": "#00cc96",
          "dash": "solid"
         },
         "marker": {
          "symbol": "circle"
         },
         "mode": "lines",
         "name": "Pojkar %",
         "orientation": "v",
         "showlegend": true,
         "type": "scatter",
         "x": [
          "2018/19",
          "2019/20",
          "2020/21",
          "2021/22",
          "2022/23"
         ],
         "xaxis": "x",
         "y": [
          27.2,
          26.3,
          25.9,
          27.5,
          28
         ],
         "yaxis": "y"
        }
       ],
       "layout": {
        "legend": {
         "title": {
          "text": "variable"
         },
         "tracegroupgap": 0
        },
        "margin": {
         "t": 60
        },
        "template": {
         "data": {
          "bar": [
           {
            "error_x": {
             "color": "#2a3f5f"
            },
            "error_y": {
             "color": "#2a3f5f"
            },
            "marker": {
             "line": {
              "color": "#E5ECF6",
              "width": 0.5
             },
             "pattern": {
              "fillmode": "overlay",
              "size": 10,
              "solidity": 0.2
             }
            },
            "type": "bar"
           }
          ],
          "barpolar": [
           {
            "marker": {
             "line": {
              "color": "#E5ECF6",
              "width": 0.5
             },
             "pattern": {
              "fillmode": "overlay",
              "size": 10,
              "solidity": 0.2
             }
            },
            "type": "barpolar"
           }
          ],
          "carpet": [
           {
            "aaxis": {
             "endlinecolor": "#2a3f5f",
             "gridcolor": "white",
             "linecolor": "white",
             "minorgridcolor": "white",
             "startlinecolor": "#2a3f5f"
            },
            "baxis": {
             "endlinecolor": "#2a3f5f",
             "gridcolor": "white",
             "linecolor": "white",
             "minorgridcolor": "white",
             "startlinecolor": "#2a3f5f"
            },
            "type": "carpet"
           }
          ],
          "choropleth": [
           {
            "colorbar": {
             "outlinewidth": 0,
             "ticks": ""
            },
            "type": "choropleth"
           }
          ],
          "contour": [
           {
            "colorbar": {
             "outlinewidth": 0,
             "ticks": ""
            },
            "colorscale": [
             [
              0,
              "#0d0887"
             ],
             [
              0.1111111111111111,
              "#46039f"
             ],
             [
              0.2222222222222222,
              "#7201a8"
             ],
             [
              0.3333333333333333,
              "#9c179e"
             ],
             [
              0.4444444444444444,
              "#bd3786"
             ],
             [
              0.5555555555555556,
              "#d8576b"
             ],
             [
              0.6666666666666666,
              "#ed7953"
             ],
             [
              0.7777777777777778,
              "#fb9f3a"
             ],
             [
              0.8888888888888888,
              "#fdca26"
             ],
             [
              1,
              "#f0f921"
             ]
            ],
            "type": "contour"
           }
          ],
          "contourcarpet": [
           {
            "colorbar": {
             "outlinewidth": 0,
             "ticks": ""
            },
            "type": "contourcarpet"
           }
          ],
          "heatmap": [
           {
            "colorbar": {
             "outlinewidth": 0,
             "ticks": ""
            },
            "colorscale": [
             [
              0,
              "#0d0887"
             ],
             [
              0.1111111111111111,
              "#46039f"
             ],
             [
              0.2222222222222222,
              "#7201a8"
             ],
             [
              0.3333333333333333,
              "#9c179e"
             ],
             [
              0.4444444444444444,
              "#bd3786"
             ],
             [
              0.5555555555555556,
              "#d8576b"
             ],
             [
              0.6666666666666666,
              "#ed7953"
             ],
             [
              0.7777777777777778,
              "#fb9f3a"
             ],
             [
              0.8888888888888888,
              "#fdca26"
             ],
             [
              1,
              "#f0f921"
             ]
            ],
            "type": "heatmap"
           }
          ],
          "histogram": [
           {
            "marker": {
             "pattern": {
              "fillmode": "overlay",
              "size": 10,
              "solidity": 0.2
             }
            },
            "type": "histogram"
           }
          ],
          "histogram2d": [
           {
            "colorbar": {
             "outlinewidth": 0,
             "ticks": ""
            },
            "colorscale": [
             [
              0,
              "#0d0887"
             ],
             [
              0.1111111111111111,
              "#46039f"
             ],
             [
              0.2222222222222222,
              "#7201a8"
             ],
             [
              0.3333333333333333,
              "#9c179e"
             ],
             [
              0.4444444444444444,
              "#bd3786"
             ],
             [
              0.5555555555555556,
              "#d8576b"
             ],
             [
              0.6666666666666666,
              "#ed7953"
             ],
             [
              0.7777777777777778,
              "#fb9f3a"
             ],
             [
              0.8888888888888888,
              "#fdca26"
             ],
             [
              1,
              "#f0f921"
             ]
            ],
            "type": "histogram2d"
           }
          ],
          "histogram2dcontour": [
           {
            "colorbar": {
             "outlinewidth": 0,
             "ticks": ""
            },
            "colorscale": [
             [
              0,
              "#0d0887"
             ],
             [
              0.1111111111111111,
              "#46039f"
             ],
             [
              0.2222222222222222,
              "#7201a8"
             ],
             [
              0.3333333333333333,
              "#9c179e"
             ],
             [
              0.4444444444444444,
              "#bd3786"
             ],
             [
              0.5555555555555556,
              "#d8576b"
             ],
             [
              0.6666666666666666,
              "#ed7953"
             ],
             [
              0.7777777777777778,
              "#fb9f3a"
             ],
             [
              0.8888888888888888,
              "#fdca26"
             ],
             [
              1,
              "#f0f921"
             ]
            ],
            "type": "histogram2dcontour"
           }
          ],
          "mesh3d": [
           {
            "colorbar": {
             "outlinewidth": 0,
             "ticks": ""
            },
            "type": "mesh3d"
           }
          ],
          "parcoords": [
           {
            "line": {
             "colorbar": {
              "outlinewidth": 0,
              "ticks": ""
             }
            },
            "type": "parcoords"
           }
          ],
          "pie": [
           {
            "automargin": true,
            "type": "pie"
           }
          ],
          "scatter": [
           {
            "fillpattern": {
             "fillmode": "overlay",
             "size": 10,
             "solidity": 0.2
            },
            "type": "scatter"
           }
          ],
          "scatter3d": [
           {
            "line": {
             "colorbar": {
              "outlinewidth": 0,
              "ticks": ""
             }
            },
            "marker": {
             "colorbar": {
              "outlinewidth": 0,
              "ticks": ""
             }
            },
            "type": "scatter3d"
           }
          ],
          "scattercarpet": [
           {
            "marker": {
             "colorbar": {
              "outlinewidth": 0,
              "ticks": ""
             }
            },
            "type": "scattercarpet"
           }
          ],
          "scattergeo": [
           {
            "marker": {
             "colorbar": {
              "outlinewidth": 0,
              "ticks": ""
             }
            },
            "type": "scattergeo"
           }
          ],
          "scattergl": [
           {
            "marker": {
             "colorbar": {
              "outlinewidth": 0,
              "ticks": ""
             }
            },
            "type": "scattergl"
           }
          ],
          "scattermap": [
           {
            "marker": {
             "colorbar": {
              "outlinewidth": 0,
              "ticks": ""
             }
            },
            "type": "scattermap"
           }
          ],
          "scattermapbox": [
           {
            "marker": {
             "colorbar": {
              "outlinewidth": 0,
              "ticks": ""
             }
            },
            "type": "scattermapbox"
           }
          ],
          "scatterpolar": [
           {
            "marker": {
             "colorbar": {
              "outlinewidth": 0,
              "ticks": ""
             }
            },
            "type": "scatterpolar"
           }
          ],
          "scatterpolargl": [
           {
            "marker": {
             "colorbar": {
              "outlinewidth": 0,
              "ticks": ""
             }
            },
            "type": "scatterpolargl"
           }
          ],
          "scatterternary": [
           {
            "marker": {
             "colorbar": {
              "outlinewidth": 0,
              "ticks": ""
             }
            },
            "type": "scatterternary"
           }
          ],
          "surface": [
           {
            "colorbar": {
             "outlinewidth": 0,
             "ticks": ""
            },
            "colorscale": [
             [
              0,
              "#0d0887"
             ],
             [
              0.1111111111111111,
              "#46039f"
             ],
             [
              0.2222222222222222,
              "#7201a8"
             ],
             [
              0.3333333333333333,
              "#9c179e"
             ],
             [
              0.4444444444444444,
              "#bd3786"
             ],
             [
              0.5555555555555556,
              "#d8576b"
             ],
             [
              0.6666666666666666,
              "#ed7953"
             ],
             [
              0.7777777777777778,
              "#fb9f3a"
             ],
             [
              0.8888888888888888,
              "#fdca26"
             ],
             [
              1,
              "#f0f921"
             ]
            ],
            "type": "surface"
           }
          ],
          "table": [
           {
            "cells": {
             "fill": {
              "color": "#EBF0F8"
             },
             "line": {
              "color": "white"
             }
            },
            "header": {
             "fill": {
              "color": "#C8D4E3"
             },
             "line": {
              "color": "white"
             }
            },
            "type": "table"
           }
          ]
         },
         "layout": {
          "annotationdefaults": {
           "arrowcolor": "#2a3f5f",
           "arrowhead": 0,
           "arrowwidth": 1
          },
          "autotypenumbers": "strict",
          "coloraxis": {
           "colorbar": {
            "outlinewidth": 0,
            "ticks": ""
           }
          },
          "colorscale": {
           "diverging": [
            [
             0,
             "#8e0152"
            ],
            [
             0.1,
             "#c51b7d"
            ],
            [
             0.2,
             "#de77ae"
            ],
            [
             0.3,
             "#f1b6da"
            ],
            [
             0.4,
             "#fde0ef"
            ],
            [
             0.5,
             "#f7f7f7"
            ],
            [
             0.6,
             "#e6f5d0"
            ],
            [
             0.7,
             "#b8e186"
            ],
            [
             0.8,
             "#7fbc41"
            ],
            [
             0.9,
             "#4d9221"
            ],
            [
             1,
             "#276419"
            ]
           ],
           "sequential": [
            [
             0,
             "#0d0887"
            ],
            [
             0.1111111111111111,
             "#46039f"
            ],
            [
             0.2222222222222222,
             "#7201a8"
            ],
            [
             0.3333333333333333,
             "#9c179e"
            ],
            [
             0.4444444444444444,
             "#bd3786"
            ],
            [
             0.5555555555555556,
             "#d8576b"
            ],
            [
             0.6666666666666666,
             "#ed7953"
            ],
            [
             0.7777777777777778,
             "#fb9f3a"
            ],
            [
             0.8888888888888888,
             "#fdca26"
            ],
            [
             1,
             "#f0f921"
            ]
           ],
           "sequentialminus": [
            [
             0,
             "#0d0887"
            ],
            [
             0.1111111111111111,
             "#46039f"
            ],
            [
             0.2222222222222222,
             "#7201a8"
            ],
            [
             0.3333333333333333,
             "#9c179e"
            ],
            [
             0.4444444444444444,
             "#bd3786"
            ],
            [
             0.5555555555555556,
             "#d8576b"
            ],
            [
             0.6666666666666666,
             "#ed7953"
            ],
            [
             0.7777777777777778,
             "#fb9f3a"
            ],
            [
             0.8888888888888888,
             "#fdca26"
            ],
            [
             1,
             "#f0f921"
            ]
           ]
          },
          "colorway": [
           "#636efa",
           "#EF553B",
           "#00cc96",
           "#ab63fa",
           "#FFA15A",
           "#19d3f3",
           "#FF6692",
           "#B6E880",
           "#FF97FF",
           "#FECB52"
          ],
          "font": {
           "color": "#2a3f5f"
          },
          "geo": {
           "bgcolor": "white",
           "lakecolor": "white",
           "landcolor": "#E5ECF6",
           "showlakes": true,
           "showland": true,
           "subunitcolor": "white"
          },
          "hoverlabel": {
           "align": "left"
          },
          "hovermode": "closest",
          "mapbox": {
           "style": "light"
          },
          "paper_bgcolor": "white",
          "plot_bgcolor": "#E5ECF6",
          "polar": {
           "angularaxis": {
            "gridcolor": "white",
            "linecolor": "white",
            "ticks": ""
           },
           "bgcolor": "#E5ECF6",
           "radialaxis": {
            "gridcolor": "white",
            "linecolor": "white",
            "ticks": ""
           }
          },
          "scene": {
           "xaxis": {
            "backgroundcolor": "#E5ECF6",
            "gridcolor": "white",
            "gridwidth": 2,
            "linecolor": "white",
            "showbackground": true,
            "ticks": "",
            "zerolinecolor": "white"
           },
           "yaxis": {
            "backgroundcolor": "#E5ECF6",
            "gridcolor": "white",
            "gridwidth": 2,
            "linecolor": "white",
            "showbackground": true,
            "ticks": "",
            "zerolinecolor": "white"
           },
           "zaxis": {
            "backgroundcolor": "#E5ECF6",
            "gridcolor": "white",
            "gridwidth": 2,
            "linecolor": "white",
            "showbackground": true,
            "ticks": "",
            "zerolinecolor": "white"
           }
          },
          "shapedefaults": {
           "line": {
            "color": "#2a3f5f"
           }
          },
          "ternary": {
           "aaxis": {
            "gridcolor": "white",
            "linecolor": "white",
            "ticks": ""
           },
           "baxis": {
            "gridcolor": "white",
            "linecolor": "white",
            "ticks": ""
           },
           "bgcolor": "#E5ECF6",
           "caxis": {
            "gridcolor": "white",
            "linecolor": "white",
            "ticks": ""
           }
          },
          "title": {
           "x": 0.05
          },
          "xaxis": {
           "automargin": true,
           "gridcolor": "white",
           "linecolor": "white",
           "ticks": "",
           "title": {
            "standoff": 15
           },
           "zerolinecolor": "white",
           "zerolinewidth": 2
          },
          "yaxis": {
           "automargin": true,
           "gridcolor": "white",
           "linecolor": "white",
           "ticks": "",
           "title": {
            "standoff": 15
           },
           "zerolinecolor": "white",
           "zerolinewidth": 2
          }
         }
        },
        "xaxis": {
         "anchor": "y",
         "domain": [
          0,
          1
         ],
         "title": {
          "text": "Key"
         }
        },
        "yaxis": {
         "anchor": "x",
         "domain": [
          0,
          1
         ],
         "title": {
          "text": "value"
         }
        }
       }
      }
     },
     "metadata": {},
     "output_type": "display_data"
    }
   ],
   "source": [
    "# - a) Rita ett linjediagram för andel elever som saknar godkänt betyg i ett eller fler ämnen för läsår 18-23. Ta med totalt,\n",
    "# flickor och pojkar i samma graf.\n",
    "# df_year = df_grades.iloc[:5]\n",
    "# df_year\n",
    "df_ig = df_grades[[\"Key\", \"Totalt %\", \"Flickor %\", \"Pojkar %\"]].iloc[:5]\n",
    "df_ig\n",
    "\n",
    "px.line(df_ig, y=[\"Totalt %\", \"Flickor %\", \"Pojkar %\"], x=\"Key\")\n"
   ]
  },
  {
   "cell_type": "code",
   "execution_count": 103,
   "metadata": {},
   "outputs": [
    {
     "data": {
      "application/vnd.plotly.v1+json": {
       "config": {
        "plotlyServerURL": "https://plot.ly"
       },
       "data": [
        {
         "hovertemplate": "Grupp=Totalt<br>Läsår=%{x}<br>Andel i %=%{y}<extra></extra>",
         "legendgroup": "Totalt",
         "line": {
          "color": "#636efa",
          "dash": "solid"
         },
         "marker": {
          "symbol": "circle"
         },
         "mode": "lines",
         "name": "Totalt",
         "orientation": "v",
         "showlegend": true,
         "type": "scatter",
         "x": [
          "2018/19",
          "2019/20",
          "2020/21",
          "2021/22",
          "2022/23"
         ],
         "xaxis": "x",
         "y": {
          "bdata": "AAAAAACAOEBmZmZmZuY3QGZmZmZm5jdAZmZmZmbmOUDNzMzMzMw6QA==",
          "dtype": "f8"
         },
         "yaxis": "y"
        },
        {
         "hovertemplate": "Grupp=Flickor<br>Läsår=%{x}<br>Andel i %=%{y}<extra></extra>",
         "legendgroup": "Flickor",
         "line": {
          "color": "#EF553B",
          "dash": "solid"
         },
         "marker": {
          "symbol": "circle"
         },
         "mode": "lines",
         "name": "Flickor",
         "orientation": "v",
         "showlegend": true,
         "type": "scatter",
         "x": [
          "2018/19",
          "2019/20",
          "2020/21",
          "2021/22",
          "2022/23"
         ],
         "xaxis": "x",
         "y": {
          "bdata": "MzMzMzOzNUBmZmZmZmY1QGZmZmZm5jVAMzMzMzMzOEAAAAAAAIA5QA==",
          "dtype": "f8"
         },
         "yaxis": "y"
        },
        {
         "hovertemplate": "Grupp=Pojkar<br>Läsår=%{x}<br>Andel i %=%{y}<extra></extra>",
         "legendgroup": "Pojkar",
         "line": {
          "color": "#00cc96",
          "dash": "solid"
         },
         "marker": {
          "symbol": "circle"
         },
         "mode": "lines",
         "name": "Pojkar",
         "orientation": "v",
         "showlegend": true,
         "type": "scatter",
         "x": [
          "2018/19",
          "2019/20",
          "2020/21",
          "2021/22",
          "2022/23"
         ],
         "xaxis": "x",
         "y": {
          "bdata": "MzMzMzMzO0DNzMzMzEw6QGZmZmZm5jlAAAAAAACAO0AAAAAAAAA8QA==",
          "dtype": "f8"
         },
         "yaxis": "y"
        }
       ],
       "layout": {
        "hovermode": "x",
        "legend": {
         "title": {
          "text": "Grupp"
         },
         "tracegroupgap": 0
        },
        "template": {
         "data": {
          "bar": [
           {
            "error_x": {
             "color": "#2a3f5f"
            },
            "error_y": {
             "color": "#2a3f5f"
            },
            "marker": {
             "line": {
              "color": "#E5ECF6",
              "width": 0.5
             },
             "pattern": {
              "fillmode": "overlay",
              "size": 10,
              "solidity": 0.2
             }
            },
            "type": "bar"
           }
          ],
          "barpolar": [
           {
            "marker": {
             "line": {
              "color": "#E5ECF6",
              "width": 0.5
             },
             "pattern": {
              "fillmode": "overlay",
              "size": 10,
              "solidity": 0.2
             }
            },
            "type": "barpolar"
           }
          ],
          "carpet": [
           {
            "aaxis": {
             "endlinecolor": "#2a3f5f",
             "gridcolor": "white",
             "linecolor": "white",
             "minorgridcolor": "white",
             "startlinecolor": "#2a3f5f"
            },
            "baxis": {
             "endlinecolor": "#2a3f5f",
             "gridcolor": "white",
             "linecolor": "white",
             "minorgridcolor": "white",
             "startlinecolor": "#2a3f5f"
            },
            "type": "carpet"
           }
          ],
          "choropleth": [
           {
            "colorbar": {
             "outlinewidth": 0,
             "ticks": ""
            },
            "type": "choropleth"
           }
          ],
          "contour": [
           {
            "colorbar": {
             "outlinewidth": 0,
             "ticks": ""
            },
            "colorscale": [
             [
              0,
              "#0d0887"
             ],
             [
              0.1111111111111111,
              "#46039f"
             ],
             [
              0.2222222222222222,
              "#7201a8"
             ],
             [
              0.3333333333333333,
              "#9c179e"
             ],
             [
              0.4444444444444444,
              "#bd3786"
             ],
             [
              0.5555555555555556,
              "#d8576b"
             ],
             [
              0.6666666666666666,
              "#ed7953"
             ],
             [
              0.7777777777777778,
              "#fb9f3a"
             ],
             [
              0.8888888888888888,
              "#fdca26"
             ],
             [
              1,
              "#f0f921"
             ]
            ],
            "type": "contour"
           }
          ],
          "contourcarpet": [
           {
            "colorbar": {
             "outlinewidth": 0,
             "ticks": ""
            },
            "type": "contourcarpet"
           }
          ],
          "heatmap": [
           {
            "colorbar": {
             "outlinewidth": 0,
             "ticks": ""
            },
            "colorscale": [
             [
              0,
              "#0d0887"
             ],
             [
              0.1111111111111111,
              "#46039f"
             ],
             [
              0.2222222222222222,
              "#7201a8"
             ],
             [
              0.3333333333333333,
              "#9c179e"
             ],
             [
              0.4444444444444444,
              "#bd3786"
             ],
             [
              0.5555555555555556,
              "#d8576b"
             ],
             [
              0.6666666666666666,
              "#ed7953"
             ],
             [
              0.7777777777777778,
              "#fb9f3a"
             ],
             [
              0.8888888888888888,
              "#fdca26"
             ],
             [
              1,
              "#f0f921"
             ]
            ],
            "type": "heatmap"
           }
          ],
          "histogram": [
           {
            "marker": {
             "pattern": {
              "fillmode": "overlay",
              "size": 10,
              "solidity": 0.2
             }
            },
            "type": "histogram"
           }
          ],
          "histogram2d": [
           {
            "colorbar": {
             "outlinewidth": 0,
             "ticks": ""
            },
            "colorscale": [
             [
              0,
              "#0d0887"
             ],
             [
              0.1111111111111111,
              "#46039f"
             ],
             [
              0.2222222222222222,
              "#7201a8"
             ],
             [
              0.3333333333333333,
              "#9c179e"
             ],
             [
              0.4444444444444444,
              "#bd3786"
             ],
             [
              0.5555555555555556,
              "#d8576b"
             ],
             [
              0.6666666666666666,
              "#ed7953"
             ],
             [
              0.7777777777777778,
              "#fb9f3a"
             ],
             [
              0.8888888888888888,
              "#fdca26"
             ],
             [
              1,
              "#f0f921"
             ]
            ],
            "type": "histogram2d"
           }
          ],
          "histogram2dcontour": [
           {
            "colorbar": {
             "outlinewidth": 0,
             "ticks": ""
            },
            "colorscale": [
             [
              0,
              "#0d0887"
             ],
             [
              0.1111111111111111,
              "#46039f"
             ],
             [
              0.2222222222222222,
              "#7201a8"
             ],
             [
              0.3333333333333333,
              "#9c179e"
             ],
             [
              0.4444444444444444,
              "#bd3786"
             ],
             [
              0.5555555555555556,
              "#d8576b"
             ],
             [
              0.6666666666666666,
              "#ed7953"
             ],
             [
              0.7777777777777778,
              "#fb9f3a"
             ],
             [
              0.8888888888888888,
              "#fdca26"
             ],
             [
              1,
              "#f0f921"
             ]
            ],
            "type": "histogram2dcontour"
           }
          ],
          "mesh3d": [
           {
            "colorbar": {
             "outlinewidth": 0,
             "ticks": ""
            },
            "type": "mesh3d"
           }
          ],
          "parcoords": [
           {
            "line": {
             "colorbar": {
              "outlinewidth": 0,
              "ticks": ""
             }
            },
            "type": "parcoords"
           }
          ],
          "pie": [
           {
            "automargin": true,
            "type": "pie"
           }
          ],
          "scatter": [
           {
            "fillpattern": {
             "fillmode": "overlay",
             "size": 10,
             "solidity": 0.2
            },
            "type": "scatter"
           }
          ],
          "scatter3d": [
           {
            "line": {
             "colorbar": {
              "outlinewidth": 0,
              "ticks": ""
             }
            },
            "marker": {
             "colorbar": {
              "outlinewidth": 0,
              "ticks": ""
             }
            },
            "type": "scatter3d"
           }
          ],
          "scattercarpet": [
           {
            "marker": {
             "colorbar": {
              "outlinewidth": 0,
              "ticks": ""
             }
            },
            "type": "scattercarpet"
           }
          ],
          "scattergeo": [
           {
            "marker": {
             "colorbar": {
              "outlinewidth": 0,
              "ticks": ""
             }
            },
            "type": "scattergeo"
           }
          ],
          "scattergl": [
           {
            "marker": {
             "colorbar": {
              "outlinewidth": 0,
              "ticks": ""
             }
            },
            "type": "scattergl"
           }
          ],
          "scattermap": [
           {
            "marker": {
             "colorbar": {
              "outlinewidth": 0,
              "ticks": ""
             }
            },
            "type": "scattermap"
           }
          ],
          "scattermapbox": [
           {
            "marker": {
             "colorbar": {
              "outlinewidth": 0,
              "ticks": ""
             }
            },
            "type": "scattermapbox"
           }
          ],
          "scatterpolar": [
           {
            "marker": {
             "colorbar": {
              "outlinewidth": 0,
              "ticks": ""
             }
            },
            "type": "scatterpolar"
           }
          ],
          "scatterpolargl": [
           {
            "marker": {
             "colorbar": {
              "outlinewidth": 0,
              "ticks": ""
             }
            },
            "type": "scatterpolargl"
           }
          ],
          "scatterternary": [
           {
            "marker": {
             "colorbar": {
              "outlinewidth": 0,
              "ticks": ""
             }
            },
            "type": "scatterternary"
           }
          ],
          "surface": [
           {
            "colorbar": {
             "outlinewidth": 0,
             "ticks": ""
            },
            "colorscale": [
             [
              0,
              "#0d0887"
             ],
             [
              0.1111111111111111,
              "#46039f"
             ],
             [
              0.2222222222222222,
              "#7201a8"
             ],
             [
              0.3333333333333333,
              "#9c179e"
             ],
             [
              0.4444444444444444,
              "#bd3786"
             ],
             [
              0.5555555555555556,
              "#d8576b"
             ],
             [
              0.6666666666666666,
              "#ed7953"
             ],
             [
              0.7777777777777778,
              "#fb9f3a"
             ],
             [
              0.8888888888888888,
              "#fdca26"
             ],
             [
              1,
              "#f0f921"
             ]
            ],
            "type": "surface"
           }
          ],
          "table": [
           {
            "cells": {
             "fill": {
              "color": "#EBF0F8"
             },
             "line": {
              "color": "white"
             }
            },
            "header": {
             "fill": {
              "color": "#C8D4E3"
             },
             "line": {
              "color": "white"
             }
            },
            "type": "table"
           }
          ]
         },
         "layout": {
          "annotationdefaults": {
           "arrowcolor": "#2a3f5f",
           "arrowhead": 0,
           "arrowwidth": 1
          },
          "autotypenumbers": "strict",
          "coloraxis": {
           "colorbar": {
            "outlinewidth": 0,
            "ticks": ""
           }
          },
          "colorscale": {
           "diverging": [
            [
             0,
             "#8e0152"
            ],
            [
             0.1,
             "#c51b7d"
            ],
            [
             0.2,
             "#de77ae"
            ],
            [
             0.3,
             "#f1b6da"
            ],
            [
             0.4,
             "#fde0ef"
            ],
            [
             0.5,
             "#f7f7f7"
            ],
            [
             0.6,
             "#e6f5d0"
            ],
            [
             0.7,
             "#b8e186"
            ],
            [
             0.8,
             "#7fbc41"
            ],
            [
             0.9,
             "#4d9221"
            ],
            [
             1,
             "#276419"
            ]
           ],
           "sequential": [
            [
             0,
             "#0d0887"
            ],
            [
             0.1111111111111111,
             "#46039f"
            ],
            [
             0.2222222222222222,
             "#7201a8"
            ],
            [
             0.3333333333333333,
             "#9c179e"
            ],
            [
             0.4444444444444444,
             "#bd3786"
            ],
            [
             0.5555555555555556,
             "#d8576b"
            ],
            [
             0.6666666666666666,
             "#ed7953"
            ],
            [
             0.7777777777777778,
             "#fb9f3a"
            ],
            [
             0.8888888888888888,
             "#fdca26"
            ],
            [
             1,
             "#f0f921"
            ]
           ],
           "sequentialminus": [
            [
             0,
             "#0d0887"
            ],
            [
             0.1111111111111111,
             "#46039f"
            ],
            [
             0.2222222222222222,
             "#7201a8"
            ],
            [
             0.3333333333333333,
             "#9c179e"
            ],
            [
             0.4444444444444444,
             "#bd3786"
            ],
            [
             0.5555555555555556,
             "#d8576b"
            ],
            [
             0.6666666666666666,
             "#ed7953"
            ],
            [
             0.7777777777777778,
             "#fb9f3a"
            ],
            [
             0.8888888888888888,
             "#fdca26"
            ],
            [
             1,
             "#f0f921"
            ]
           ]
          },
          "colorway": [
           "#636efa",
           "#EF553B",
           "#00cc96",
           "#ab63fa",
           "#FFA15A",
           "#19d3f3",
           "#FF6692",
           "#B6E880",
           "#FF97FF",
           "#FECB52"
          ],
          "font": {
           "color": "#2a3f5f"
          },
          "geo": {
           "bgcolor": "white",
           "lakecolor": "white",
           "landcolor": "#E5ECF6",
           "showlakes": true,
           "showland": true,
           "subunitcolor": "white"
          },
          "hoverlabel": {
           "align": "left"
          },
          "hovermode": "closest",
          "mapbox": {
           "style": "light"
          },
          "paper_bgcolor": "white",
          "plot_bgcolor": "#E5ECF6",
          "polar": {
           "angularaxis": {
            "gridcolor": "white",
            "linecolor": "white",
            "ticks": ""
           },
           "bgcolor": "#E5ECF6",
           "radialaxis": {
            "gridcolor": "white",
            "linecolor": "white",
            "ticks": ""
           }
          },
          "scene": {
           "xaxis": {
            "backgroundcolor": "#E5ECF6",
            "gridcolor": "white",
            "gridwidth": 2,
            "linecolor": "white",
            "showbackground": true,
            "ticks": "",
            "zerolinecolor": "white"
           },
           "yaxis": {
            "backgroundcolor": "#E5ECF6",
            "gridcolor": "white",
            "gridwidth": 2,
            "linecolor": "white",
            "showbackground": true,
            "ticks": "",
            "zerolinecolor": "white"
           },
           "zaxis": {
            "backgroundcolor": "#E5ECF6",
            "gridcolor": "white",
            "gridwidth": 2,
            "linecolor": "white",
            "showbackground": true,
            "ticks": "",
            "zerolinecolor": "white"
           }
          },
          "shapedefaults": {
           "line": {
            "color": "#2a3f5f"
           }
          },
          "ternary": {
           "aaxis": {
            "gridcolor": "white",
            "linecolor": "white",
            "ticks": ""
           },
           "baxis": {
            "gridcolor": "white",
            "linecolor": "white",
            "ticks": ""
           },
           "bgcolor": "#E5ECF6",
           "caxis": {
            "gridcolor": "white",
            "linecolor": "white",
            "ticks": ""
           }
          },
          "title": {
           "x": 0.05
          },
          "xaxis": {
           "automargin": true,
           "gridcolor": "white",
           "linecolor": "white",
           "ticks": "",
           "title": {
            "standoff": 15
           },
           "zerolinecolor": "white",
           "zerolinewidth": 2
          },
          "yaxis": {
           "automargin": true,
           "gridcolor": "white",
           "linecolor": "white",
           "ticks": "",
           "title": {
            "standoff": 15
           },
           "zerolinecolor": "white",
           "zerolinewidth": 2
          }
         }
        },
        "title": {
         "text": "Andel (%) elever som saknar godkänt betyg i ett, flera eller alla ämnen, läsår 2018-2023"
        },
        "xaxis": {
         "anchor": "y",
         "domain": [
          0,
          1
         ],
         "showspikes": true,
         "spikecolor": "gray",
         "spikedash": "solid",
         "spikemode": "across",
         "spikesnap": "cursor",
         "title": {
          "text": "Läsår"
         }
        },
        "yaxis": {
         "anchor": "x",
         "domain": [
          0,
          1
         ],
         "title": {
          "text": "Andel i %"
         }
        }
       }
      }
     },
     "metadata": {},
     "output_type": "display_data"
    }
   ],
   "source": [
    "df_grad = pd.read_excel(\n",
    "    \"excel/betyg_o_prov_riksnivå.xlsx\", sheet_name=\"Tabell 1B\", header=[6, 7]\n",
    ")\n",
    "df_grad.dropna(inplace=True)\n",
    "df_grad = df_grad.rename(\n",
    "    columns={df_grad.columns[0][0]: \"Key\", df_grad.columns[0][1]: \"Key\"}\n",
    ")\n",
    "\n",
    "\n",
    "df_ig_grades = df_grad[\n",
    "    [\"Key\", \"Andel (%) elever som saknar godkänt betyg i ett, flera eller alla ämnen\"]\n",
    "].iloc[:5]\n",
    "\n",
    "df_ig_grades.columns = df_ig_grades.columns.get_level_values(1)\n",
    "df_ig_grades\n",
    "\n",
    "fig = px.line(\n",
    "    df_ig_grades, \n",
    "    x=\"Key\", \n",
    "    y=[\"Totalt\", \"Flickor\", \"Pojkar\"],\n",
    "    title=\"Andel (%) elever som saknar godkänt betyg i ett, flera eller alla ämnen, läsår 2018-2023\",\n",
    "    labels={\"value\": \"Andel i %\", \"Key\": \"Läsår\", \"variable\": \"Grupp\"},\n",
    ")\n",
    "\n",
    "fig.update_xaxes(\n",
    "    showspikes=True,\n",
    "    spikedash=\"solid\",\n",
    "    spikecolor=\"gray\",\n",
    "    spikemode=\"across\",\n",
    "    spikesnap=\"cursor\",\n",
    ")\n",
    "fig.update_layout(hovermode = \"x\")\n",
    "\n",
    "# fig.write_html(\"visualiseringar/percent_grades_lineplot.html\")"
   ]
  },
  {
   "cell_type": "code",
   "execution_count": 104,
   "metadata": {},
   "outputs": [
    {
     "data": {
      "application/vnd.plotly.v1+json": {
       "config": {
        "plotlyServerURL": "https://plot.ly"
       },
       "data": [
        {
         "hovertemplate": "Grupp=Totalt<br>Läsår=%{x}<br>Genomsnittligt meritvärde=%{y}<extra></extra>",
         "legendgroup": "Totalt",
         "line": {
          "color": "#636efa",
          "dash": "solid"
         },
         "marker": {
          "symbol": "circle"
         },
         "mode": "lines",
         "name": "Totalt",
         "orientation": "v",
         "showlegend": true,
         "type": "scatter",
         "x": [
          "2018/19",
          "2019/20",
          "2020/21",
          "2021/22",
          "2022/23"
         ],
         "xaxis": "x",
         "y": {
          "bdata": "ZmZmZma2a0DNzMzMzNxrQM3MzMzM/GtAZmZmZmama0AzMzMzM5NrQA==",
          "dtype": "f8"
         },
         "yaxis": "y"
        },
        {
         "hovertemplate": "Grupp=Flickor<br>Läsår=%{x}<br>Genomsnittligt meritvärde=%{y}<extra></extra>",
         "legendgroup": "Flickor",
         "line": {
          "color": "#EF553B",
          "dash": "solid"
         },
         "marker": {
          "symbol": "circle"
         },
         "mode": "lines",
         "name": "Flickor",
         "orientation": "v",
         "showlegend": true,
         "type": "scatter",
         "x": [
          "2018/19",
          "2019/20",
          "2020/21",
          "2021/22",
          "2022/23"
         ],
         "xaxis": "x",
         "y": {
          "bdata": "mpmZmZlJbUBmZmZmZnZtQM3MzMzMbG1AMzMzMzPzbEBmZmZmZrZsQA==",
          "dtype": "f8"
         },
         "yaxis": "y"
        },
        {
         "hovertemplate": "Grupp=Pojkar<br>Läsår=%{x}<br>Genomsnittligt meritvärde=%{y}<extra></extra>",
         "legendgroup": "Pojkar",
         "line": {
          "color": "#00cc96",
          "dash": "solid"
         },
         "marker": {
          "symbol": "circle"
         },
         "mode": "lines",
         "name": "Pojkar",
         "orientation": "v",
         "showlegend": true,
         "type": "scatter",
         "x": [
          "2018/19",
          "2019/20",
          "2020/21",
          "2021/22",
          "2022/23"
         ],
         "xaxis": "x",
         "y": {
          "bdata": "mpmZmZk5akDNzMzMzFxqQM3MzMzMnGpAzczMzMxsakDNzMzMzHxqQA==",
          "dtype": "f8"
         },
         "yaxis": "y"
        }
       ],
       "layout": {
        "hovermode": "x",
        "legend": {
         "title": {
          "text": "Grupp"
         },
         "tracegroupgap": 0
        },
        "template": {
         "data": {
          "bar": [
           {
            "error_x": {
             "color": "#2a3f5f"
            },
            "error_y": {
             "color": "#2a3f5f"
            },
            "marker": {
             "line": {
              "color": "#E5ECF6",
              "width": 0.5
             },
             "pattern": {
              "fillmode": "overlay",
              "size": 10,
              "solidity": 0.2
             }
            },
            "type": "bar"
           }
          ],
          "barpolar": [
           {
            "marker": {
             "line": {
              "color": "#E5ECF6",
              "width": 0.5
             },
             "pattern": {
              "fillmode": "overlay",
              "size": 10,
              "solidity": 0.2
             }
            },
            "type": "barpolar"
           }
          ],
          "carpet": [
           {
            "aaxis": {
             "endlinecolor": "#2a3f5f",
             "gridcolor": "white",
             "linecolor": "white",
             "minorgridcolor": "white",
             "startlinecolor": "#2a3f5f"
            },
            "baxis": {
             "endlinecolor": "#2a3f5f",
             "gridcolor": "white",
             "linecolor": "white",
             "minorgridcolor": "white",
             "startlinecolor": "#2a3f5f"
            },
            "type": "carpet"
           }
          ],
          "choropleth": [
           {
            "colorbar": {
             "outlinewidth": 0,
             "ticks": ""
            },
            "type": "choropleth"
           }
          ],
          "contour": [
           {
            "colorbar": {
             "outlinewidth": 0,
             "ticks": ""
            },
            "colorscale": [
             [
              0,
              "#0d0887"
             ],
             [
              0.1111111111111111,
              "#46039f"
             ],
             [
              0.2222222222222222,
              "#7201a8"
             ],
             [
              0.3333333333333333,
              "#9c179e"
             ],
             [
              0.4444444444444444,
              "#bd3786"
             ],
             [
              0.5555555555555556,
              "#d8576b"
             ],
             [
              0.6666666666666666,
              "#ed7953"
             ],
             [
              0.7777777777777778,
              "#fb9f3a"
             ],
             [
              0.8888888888888888,
              "#fdca26"
             ],
             [
              1,
              "#f0f921"
             ]
            ],
            "type": "contour"
           }
          ],
          "contourcarpet": [
           {
            "colorbar": {
             "outlinewidth": 0,
             "ticks": ""
            },
            "type": "contourcarpet"
           }
          ],
          "heatmap": [
           {
            "colorbar": {
             "outlinewidth": 0,
             "ticks": ""
            },
            "colorscale": [
             [
              0,
              "#0d0887"
             ],
             [
              0.1111111111111111,
              "#46039f"
             ],
             [
              0.2222222222222222,
              "#7201a8"
             ],
             [
              0.3333333333333333,
              "#9c179e"
             ],
             [
              0.4444444444444444,
              "#bd3786"
             ],
             [
              0.5555555555555556,
              "#d8576b"
             ],
             [
              0.6666666666666666,
              "#ed7953"
             ],
             [
              0.7777777777777778,
              "#fb9f3a"
             ],
             [
              0.8888888888888888,
              "#fdca26"
             ],
             [
              1,
              "#f0f921"
             ]
            ],
            "type": "heatmap"
           }
          ],
          "histogram": [
           {
            "marker": {
             "pattern": {
              "fillmode": "overlay",
              "size": 10,
              "solidity": 0.2
             }
            },
            "type": "histogram"
           }
          ],
          "histogram2d": [
           {
            "colorbar": {
             "outlinewidth": 0,
             "ticks": ""
            },
            "colorscale": [
             [
              0,
              "#0d0887"
             ],
             [
              0.1111111111111111,
              "#46039f"
             ],
             [
              0.2222222222222222,
              "#7201a8"
             ],
             [
              0.3333333333333333,
              "#9c179e"
             ],
             [
              0.4444444444444444,
              "#bd3786"
             ],
             [
              0.5555555555555556,
              "#d8576b"
             ],
             [
              0.6666666666666666,
              "#ed7953"
             ],
             [
              0.7777777777777778,
              "#fb9f3a"
             ],
             [
              0.8888888888888888,
              "#fdca26"
             ],
             [
              1,
              "#f0f921"
             ]
            ],
            "type": "histogram2d"
           }
          ],
          "histogram2dcontour": [
           {
            "colorbar": {
             "outlinewidth": 0,
             "ticks": ""
            },
            "colorscale": [
             [
              0,
              "#0d0887"
             ],
             [
              0.1111111111111111,
              "#46039f"
             ],
             [
              0.2222222222222222,
              "#7201a8"
             ],
             [
              0.3333333333333333,
              "#9c179e"
             ],
             [
              0.4444444444444444,
              "#bd3786"
             ],
             [
              0.5555555555555556,
              "#d8576b"
             ],
             [
              0.6666666666666666,
              "#ed7953"
             ],
             [
              0.7777777777777778,
              "#fb9f3a"
             ],
             [
              0.8888888888888888,
              "#fdca26"
             ],
             [
              1,
              "#f0f921"
             ]
            ],
            "type": "histogram2dcontour"
           }
          ],
          "mesh3d": [
           {
            "colorbar": {
             "outlinewidth": 0,
             "ticks": ""
            },
            "type": "mesh3d"
           }
          ],
          "parcoords": [
           {
            "line": {
             "colorbar": {
              "outlinewidth": 0,
              "ticks": ""
             }
            },
            "type": "parcoords"
           }
          ],
          "pie": [
           {
            "automargin": true,
            "type": "pie"
           }
          ],
          "scatter": [
           {
            "fillpattern": {
             "fillmode": "overlay",
             "size": 10,
             "solidity": 0.2
            },
            "type": "scatter"
           }
          ],
          "scatter3d": [
           {
            "line": {
             "colorbar": {
              "outlinewidth": 0,
              "ticks": ""
             }
            },
            "marker": {
             "colorbar": {
              "outlinewidth": 0,
              "ticks": ""
             }
            },
            "type": "scatter3d"
           }
          ],
          "scattercarpet": [
           {
            "marker": {
             "colorbar": {
              "outlinewidth": 0,
              "ticks": ""
             }
            },
            "type": "scattercarpet"
           }
          ],
          "scattergeo": [
           {
            "marker": {
             "colorbar": {
              "outlinewidth": 0,
              "ticks": ""
             }
            },
            "type": "scattergeo"
           }
          ],
          "scattergl": [
           {
            "marker": {
             "colorbar": {
              "outlinewidth": 0,
              "ticks": ""
             }
            },
            "type": "scattergl"
           }
          ],
          "scattermap": [
           {
            "marker": {
             "colorbar": {
              "outlinewidth": 0,
              "ticks": ""
             }
            },
            "type": "scattermap"
           }
          ],
          "scattermapbox": [
           {
            "marker": {
             "colorbar": {
              "outlinewidth": 0,
              "ticks": ""
             }
            },
            "type": "scattermapbox"
           }
          ],
          "scatterpolar": [
           {
            "marker": {
             "colorbar": {
              "outlinewidth": 0,
              "ticks": ""
             }
            },
            "type": "scatterpolar"
           }
          ],
          "scatterpolargl": [
           {
            "marker": {
             "colorbar": {
              "outlinewidth": 0,
              "ticks": ""
             }
            },
            "type": "scatterpolargl"
           }
          ],
          "scatterternary": [
           {
            "marker": {
             "colorbar": {
              "outlinewidth": 0,
              "ticks": ""
             }
            },
            "type": "scatterternary"
           }
          ],
          "surface": [
           {
            "colorbar": {
             "outlinewidth": 0,
             "ticks": ""
            },
            "colorscale": [
             [
              0,
              "#0d0887"
             ],
             [
              0.1111111111111111,
              "#46039f"
             ],
             [
              0.2222222222222222,
              "#7201a8"
             ],
             [
              0.3333333333333333,
              "#9c179e"
             ],
             [
              0.4444444444444444,
              "#bd3786"
             ],
             [
              0.5555555555555556,
              "#d8576b"
             ],
             [
              0.6666666666666666,
              "#ed7953"
             ],
             [
              0.7777777777777778,
              "#fb9f3a"
             ],
             [
              0.8888888888888888,
              "#fdca26"
             ],
             [
              1,
              "#f0f921"
             ]
            ],
            "type": "surface"
           }
          ],
          "table": [
           {
            "cells": {
             "fill": {
              "color": "#EBF0F8"
             },
             "line": {
              "color": "white"
             }
            },
            "header": {
             "fill": {
              "color": "#C8D4E3"
             },
             "line": {
              "color": "white"
             }
            },
            "type": "table"
           }
          ]
         },
         "layout": {
          "annotationdefaults": {
           "arrowcolor": "#2a3f5f",
           "arrowhead": 0,
           "arrowwidth": 1
          },
          "autotypenumbers": "strict",
          "coloraxis": {
           "colorbar": {
            "outlinewidth": 0,
            "ticks": ""
           }
          },
          "colorscale": {
           "diverging": [
            [
             0,
             "#8e0152"
            ],
            [
             0.1,
             "#c51b7d"
            ],
            [
             0.2,
             "#de77ae"
            ],
            [
             0.3,
             "#f1b6da"
            ],
            [
             0.4,
             "#fde0ef"
            ],
            [
             0.5,
             "#f7f7f7"
            ],
            [
             0.6,
             "#e6f5d0"
            ],
            [
             0.7,
             "#b8e186"
            ],
            [
             0.8,
             "#7fbc41"
            ],
            [
             0.9,
             "#4d9221"
            ],
            [
             1,
             "#276419"
            ]
           ],
           "sequential": [
            [
             0,
             "#0d0887"
            ],
            [
             0.1111111111111111,
             "#46039f"
            ],
            [
             0.2222222222222222,
             "#7201a8"
            ],
            [
             0.3333333333333333,
             "#9c179e"
            ],
            [
             0.4444444444444444,
             "#bd3786"
            ],
            [
             0.5555555555555556,
             "#d8576b"
            ],
            [
             0.6666666666666666,
             "#ed7953"
            ],
            [
             0.7777777777777778,
             "#fb9f3a"
            ],
            [
             0.8888888888888888,
             "#fdca26"
            ],
            [
             1,
             "#f0f921"
            ]
           ],
           "sequentialminus": [
            [
             0,
             "#0d0887"
            ],
            [
             0.1111111111111111,
             "#46039f"
            ],
            [
             0.2222222222222222,
             "#7201a8"
            ],
            [
             0.3333333333333333,
             "#9c179e"
            ],
            [
             0.4444444444444444,
             "#bd3786"
            ],
            [
             0.5555555555555556,
             "#d8576b"
            ],
            [
             0.6666666666666666,
             "#ed7953"
            ],
            [
             0.7777777777777778,
             "#fb9f3a"
            ],
            [
             0.8888888888888888,
             "#fdca26"
            ],
            [
             1,
             "#f0f921"
            ]
           ]
          },
          "colorway": [
           "#636efa",
           "#EF553B",
           "#00cc96",
           "#ab63fa",
           "#FFA15A",
           "#19d3f3",
           "#FF6692",
           "#B6E880",
           "#FF97FF",
           "#FECB52"
          ],
          "font": {
           "color": "#2a3f5f"
          },
          "geo": {
           "bgcolor": "white",
           "lakecolor": "white",
           "landcolor": "#E5ECF6",
           "showlakes": true,
           "showland": true,
           "subunitcolor": "white"
          },
          "hoverlabel": {
           "align": "left"
          },
          "hovermode": "closest",
          "mapbox": {
           "style": "light"
          },
          "paper_bgcolor": "white",
          "plot_bgcolor": "#E5ECF6",
          "polar": {
           "angularaxis": {
            "gridcolor": "white",
            "linecolor": "white",
            "ticks": ""
           },
           "bgcolor": "#E5ECF6",
           "radialaxis": {
            "gridcolor": "white",
            "linecolor": "white",
            "ticks": ""
           }
          },
          "scene": {
           "xaxis": {
            "backgroundcolor": "#E5ECF6",
            "gridcolor": "white",
            "gridwidth": 2,
            "linecolor": "white",
            "showbackground": true,
            "ticks": "",
            "zerolinecolor": "white"
           },
           "yaxis": {
            "backgroundcolor": "#E5ECF6",
            "gridcolor": "white",
            "gridwidth": 2,
            "linecolor": "white",
            "showbackground": true,
            "ticks": "",
            "zerolinecolor": "white"
           },
           "zaxis": {
            "backgroundcolor": "#E5ECF6",
            "gridcolor": "white",
            "gridwidth": 2,
            "linecolor": "white",
            "showbackground": true,
            "ticks": "",
            "zerolinecolor": "white"
           }
          },
          "shapedefaults": {
           "line": {
            "color": "#2a3f5f"
           }
          },
          "ternary": {
           "aaxis": {
            "gridcolor": "white",
            "linecolor": "white",
            "ticks": ""
           },
           "baxis": {
            "gridcolor": "white",
            "linecolor": "white",
            "ticks": ""
           },
           "bgcolor": "#E5ECF6",
           "caxis": {
            "gridcolor": "white",
            "linecolor": "white",
            "ticks": ""
           }
          },
          "title": {
           "x": 0.05
          },
          "xaxis": {
           "automargin": true,
           "gridcolor": "white",
           "linecolor": "white",
           "ticks": "",
           "title": {
            "standoff": 15
           },
           "zerolinecolor": "white",
           "zerolinewidth": 2
          },
          "yaxis": {
           "automargin": true,
           "gridcolor": "white",
           "linecolor": "white",
           "ticks": "",
           "title": {
            "standoff": 15
           },
           "zerolinecolor": "white",
           "zerolinewidth": 2
          }
         }
        },
        "title": {
         "text": "Genomsnittligt meritvärde beräknat på 16 ämnen, läsår 2018-2023"
        },
        "xaxis": {
         "anchor": "y",
         "domain": [
          0,
          1
         ],
         "showspikes": true,
         "spikecolor": "gray",
         "spikedash": "solid",
         "spikemode": "across",
         "spikesnap": "cursor",
         "title": {
          "text": "Läsår"
         }
        },
        "yaxis": {
         "anchor": "x",
         "domain": [
          0,
          1
         ],
         "title": {
          "text": "Genomsnittligt meritvärde"
         }
        }
       }
      }
     },
     "metadata": {},
     "output_type": "display_data"
    }
   ],
   "source": [
    "# - b) Rita ett linjediagram för meritvärde för 16 ämnen för totalt, flickor och pojkar för läsår 18-23.\n",
    "\n",
    "df_16_merit = df_grad[[\"Key\", \"Genomsnittligt meritvärde beräknat på 16 ämnen\"]].iloc[:5]\n",
    "\n",
    "df_16_merit.columns =df_16_merit.columns.get_level_values(1)\n",
    "\n",
    "df_16_merit\n",
    "\n",
    "fig = px.line(\n",
    "    df_16_merit, \n",
    "    x=\"Key\", \n",
    "    y=[\"Totalt\", \"Flickor\", \"Pojkar\"],\n",
    "    title=\"Genomsnittligt meritvärde beräknat på 16 ämnen, läsår 2018-2023\",\n",
    "    labels={\"value\": \"Genomsnittligt meritvärde\", \"Key\": \"Läsår\", \"variable\": \"Grupp\"},\n",
    ")\n",
    "\n",
    "fig.update_xaxes(\n",
    "    showspikes=True,\n",
    "    spikedash=\"solid\",\n",
    "    spikecolor=\"gray\",\n",
    "    spikemode=\"across\",\n",
    "    spikesnap=\"cursor\",\n",
    ")\n",
    "fig.update_layout(hovermode = \"x\")\n",
    "\n",
    "# fig.write_html(\"visualiseringar/merit_16_grades_lineplot.html\")"
   ]
  },
  {
   "cell_type": "code",
   "execution_count": 90,
   "metadata": {},
   "outputs": [
    {
     "data": {
      "text/html": [
       "<div>\n",
       "<style scoped>\n",
       "    .dataframe tbody tr th:only-of-type {\n",
       "        vertical-align: middle;\n",
       "    }\n",
       "\n",
       "    .dataframe tbody tr th {\n",
       "        vertical-align: top;\n",
       "    }\n",
       "\n",
       "    .dataframe thead tr th {\n",
       "        text-align: left;\n",
       "    }\n",
       "</style>\n",
       "<table border=\"1\" class=\"dataframe\">\n",
       "  <thead>\n",
       "    <tr>\n",
       "      <th></th>\n",
       "      <th>Key</th>\n",
       "      <th colspan=\"3\" halign=\"left\">Genomsnittligt meritvärde beräknat på 16 ämnen</th>\n",
       "      <th colspan=\"3\" halign=\"left\">Genomsnittligt meritvärde beräknat på 17 ämnen3</th>\n",
       "      <th colspan=\"3\" halign=\"left\">Andel (%) elever som saknar godkänt betyg i ett, flera eller alla ämnen</th>\n",
       "    </tr>\n",
       "    <tr>\n",
       "      <th></th>\n",
       "      <th>Key</th>\n",
       "      <th>Totalt</th>\n",
       "      <th>Flickor</th>\n",
       "      <th>Pojkar</th>\n",
       "      <th>Totalt</th>\n",
       "      <th>Flickor</th>\n",
       "      <th>Pojkar</th>\n",
       "      <th>Totalt</th>\n",
       "      <th>Flickor</th>\n",
       "      <th>Pojkar</th>\n",
       "    </tr>\n",
       "  </thead>\n",
       "  <tbody>\n",
       "    <tr>\n",
       "      <th>0</th>\n",
       "      <td>2022/23</td>\n",
       "      <td>220.6</td>\n",
       "      <td>229.7</td>\n",
       "      <td>211.9</td>\n",
       "      <td>228.5</td>\n",
       "      <td>238.2</td>\n",
       "      <td>219.3</td>\n",
       "      <td>26.8</td>\n",
       "      <td>25.5</td>\n",
       "      <td>28.0</td>\n",
       "    </tr>\n",
       "    <tr>\n",
       "      <th>1</th>\n",
       "      <td>Kommun</td>\n",
       "      <td>216.1</td>\n",
       "      <td>225.6</td>\n",
       "      <td>207.2</td>\n",
       "      <td>223.6</td>\n",
       "      <td>233.8</td>\n",
       "      <td>214.1</td>\n",
       "      <td>28.9</td>\n",
       "      <td>27.4</td>\n",
       "      <td>30.3</td>\n",
       "    </tr>\n",
       "    <tr>\n",
       "      <th>2</th>\n",
       "      <td>Enskild</td>\n",
       "      <td>237.9</td>\n",
       "      <td>245.0</td>\n",
       "      <td>230.8</td>\n",
       "      <td>247.2</td>\n",
       "      <td>254.8</td>\n",
       "      <td>239.7</td>\n",
       "      <td>18.7</td>\n",
       "      <td>18.4</td>\n",
       "      <td>19.0</td>\n",
       "    </tr>\n",
       "    <tr>\n",
       "      <th>3</th>\n",
       "      <td>Allmän inriktning</td>\n",
       "      <td>238.5</td>\n",
       "      <td>245.8</td>\n",
       "      <td>231.2</td>\n",
       "      <td>247.9</td>\n",
       "      <td>255.7</td>\n",
       "      <td>240.1</td>\n",
       "      <td>18.0</td>\n",
       "      <td>17.7</td>\n",
       "      <td>18.3</td>\n",
       "    </tr>\n",
       "    <tr>\n",
       "      <th>4</th>\n",
       "      <td>Konfessionell</td>\n",
       "      <td>225.6</td>\n",
       "      <td>230.5</td>\n",
       "      <td>220.5</td>\n",
       "      <td>233.2</td>\n",
       "      <td>238.4</td>\n",
       "      <td>227.8</td>\n",
       "      <td>29.4</td>\n",
       "      <td>29.5</td>\n",
       "      <td>29.4</td>\n",
       "    </tr>\n",
       "    <tr>\n",
       "      <th>5</th>\n",
       "      <td>Waldorf</td>\n",
       "      <td>236.3</td>\n",
       "      <td>239.0</td>\n",
       "      <td>233.9</td>\n",
       "      <td>244.3</td>\n",
       "      <td>247.1</td>\n",
       "      <td>241.7</td>\n",
       "      <td>25.6</td>\n",
       "      <td>25.3</td>\n",
       "      <td>25.8</td>\n",
       "    </tr>\n",
       "    <tr>\n",
       "      <th>6</th>\n",
       "      <td>Elever med svensk bakgrund</td>\n",
       "      <td>227.4</td>\n",
       "      <td>236.3</td>\n",
       "      <td>219.1</td>\n",
       "      <td>236.0</td>\n",
       "      <td>245.4</td>\n",
       "      <td>227.1</td>\n",
       "      <td>21.4</td>\n",
       "      <td>20.5</td>\n",
       "      <td>22.2</td>\n",
       "    </tr>\n",
       "    <tr>\n",
       "      <th>7</th>\n",
       "      <td>Elever med utländsk bakgrund</td>\n",
       "      <td>204.0</td>\n",
       "      <td>214.1</td>\n",
       "      <td>194.5</td>\n",
       "      <td>210.2</td>\n",
       "      <td>221.0</td>\n",
       "      <td>200.1</td>\n",
       "      <td>40.2</td>\n",
       "      <td>37.8</td>\n",
       "      <td>42.5</td>\n",
       "    </tr>\n",
       "    <tr>\n",
       "      <th>8</th>\n",
       "      <td>Födda i Sverige</td>\n",
       "      <td>215.5</td>\n",
       "      <td>224.7</td>\n",
       "      <td>206.6</td>\n",
       "      <td>223.0</td>\n",
       "      <td>232.8</td>\n",
       "      <td>213.5</td>\n",
       "      <td>32.6</td>\n",
       "      <td>30.8</td>\n",
       "      <td>34.3</td>\n",
       "    </tr>\n",
       "    <tr>\n",
       "      <th>9</th>\n",
       "      <td>Födda utomlands, inv. före 2014</td>\n",
       "      <td>217.4</td>\n",
       "      <td>227.6</td>\n",
       "      <td>208.0</td>\n",
       "      <td>224.8</td>\n",
       "      <td>235.8</td>\n",
       "      <td>214.7</td>\n",
       "      <td>32.0</td>\n",
       "      <td>29.8</td>\n",
       "      <td>34.0</td>\n",
       "    </tr>\n",
       "    <tr>\n",
       "      <th>10</th>\n",
       "      <td>Födda utomlands, inv. 2014 el. senare</td>\n",
       "      <td>182.1</td>\n",
       "      <td>193.1</td>\n",
       "      <td>171.8</td>\n",
       "      <td>186.1</td>\n",
       "      <td>197.7</td>\n",
       "      <td>175.1</td>\n",
       "      <td>54.3</td>\n",
       "      <td>51.1</td>\n",
       "      <td>57.2</td>\n",
       "    </tr>\n",
       "    <tr>\n",
       "      <th>11</th>\n",
       "      <td>Totalt exkl. nyinvandrade elever och okänd bak...</td>\n",
       "      <td>223.0</td>\n",
       "      <td>232.1</td>\n",
       "      <td>214.3</td>\n",
       "      <td>231.1</td>\n",
       "      <td>240.9</td>\n",
       "      <td>221.7</td>\n",
       "      <td>25.2</td>\n",
       "      <td>24.0</td>\n",
       "      <td>26.4</td>\n",
       "    </tr>\n",
       "    <tr>\n",
       "      <th>12</th>\n",
       "      <td>Nyinvandrade elever</td>\n",
       "      <td>144.8</td>\n",
       "      <td>152.0</td>\n",
       "      <td>138.2</td>\n",
       "      <td>146.2</td>\n",
       "      <td>153.6</td>\n",
       "      <td>139.3</td>\n",
       "      <td>75.0</td>\n",
       "      <td>72.9</td>\n",
       "      <td>77.0</td>\n",
       "    </tr>\n",
       "    <tr>\n",
       "      <th>13</th>\n",
       "      <td>Elever med okänd bakgrund</td>\n",
       "      <td>133.3</td>\n",
       "      <td>133.9</td>\n",
       "      <td>132.8</td>\n",
       "      <td>135.2</td>\n",
       "      <td>135.8</td>\n",
       "      <td>134.6</td>\n",
       "      <td>77.9</td>\n",
       "      <td>79.8</td>\n",
       "      <td>76.1</td>\n",
       "    </tr>\n",
       "    <tr>\n",
       "      <th>14</th>\n",
       "      <td>Förgymnasial utbildning</td>\n",
       "      <td>163.8</td>\n",
       "      <td>172.2</td>\n",
       "      <td>155.8</td>\n",
       "      <td>166.8</td>\n",
       "      <td>175.6</td>\n",
       "      <td>158.3</td>\n",
       "      <td>63.5</td>\n",
       "      <td>61.5</td>\n",
       "      <td>65.3</td>\n",
       "    </tr>\n",
       "    <tr>\n",
       "      <th>15</th>\n",
       "      <td>Gymnasial utbildning</td>\n",
       "      <td>197.4</td>\n",
       "      <td>207.2</td>\n",
       "      <td>188.2</td>\n",
       "      <td>203.2</td>\n",
       "      <td>213.6</td>\n",
       "      <td>193.3</td>\n",
       "      <td>37.4</td>\n",
       "      <td>35.2</td>\n",
       "      <td>39.5</td>\n",
       "    </tr>\n",
       "    <tr>\n",
       "      <th>16</th>\n",
       "      <td>Eftergymnasial utbildning</td>\n",
       "      <td>239.1</td>\n",
       "      <td>247.9</td>\n",
       "      <td>230.7</td>\n",
       "      <td>248.6</td>\n",
       "      <td>258.1</td>\n",
       "      <td>239.6</td>\n",
       "      <td>16.8</td>\n",
       "      <td>16.1</td>\n",
       "      <td>17.5</td>\n",
       "    </tr>\n",
       "    <tr>\n",
       "      <th>17</th>\n",
       "      <td>Kort utbildning</td>\n",
       "      <td>218.9</td>\n",
       "      <td>228.4</td>\n",
       "      <td>209.7</td>\n",
       "      <td>226.5</td>\n",
       "      <td>236.6</td>\n",
       "      <td>216.6</td>\n",
       "      <td>26.1</td>\n",
       "      <td>24.5</td>\n",
       "      <td>27.5</td>\n",
       "    </tr>\n",
       "    <tr>\n",
       "      <th>18</th>\n",
       "      <td>Lång utbildning</td>\n",
       "      <td>245.8</td>\n",
       "      <td>254.5</td>\n",
       "      <td>237.6</td>\n",
       "      <td>256.0</td>\n",
       "      <td>265.3</td>\n",
       "      <td>247.2</td>\n",
       "      <td>13.7</td>\n",
       "      <td>13.3</td>\n",
       "      <td>14.1</td>\n",
       "    </tr>\n",
       "  </tbody>\n",
       "</table>\n",
       "</div>"
      ],
      "text/plain": [
       "                                                  Key  \\\n",
       "                                                  Key   \n",
       "0                                             2022/23   \n",
       "1                                              Kommun   \n",
       "2                                             Enskild   \n",
       "3                                   Allmän inriktning   \n",
       "4                                       Konfessionell   \n",
       "5                                             Waldorf   \n",
       "6                          Elever med svensk bakgrund   \n",
       "7                        Elever med utländsk bakgrund   \n",
       "8                                     Födda i Sverige   \n",
       "9                     Födda utomlands, inv. före 2014   \n",
       "10              Födda utomlands, inv. 2014 el. senare   \n",
       "11  Totalt exkl. nyinvandrade elever och okänd bak...   \n",
       "12                                Nyinvandrade elever   \n",
       "13                          Elever med okänd bakgrund   \n",
       "14                            Förgymnasial utbildning   \n",
       "15                               Gymnasial utbildning   \n",
       "16                          Eftergymnasial utbildning   \n",
       "17                                    Kort utbildning   \n",
       "18                                    Lång utbildning   \n",
       "\n",
       "   Genomsnittligt meritvärde beräknat på 16 ämnen                 \\\n",
       "                                           Totalt Flickor Pojkar   \n",
       "0                                           220.6   229.7  211.9   \n",
       "1                                           216.1   225.6  207.2   \n",
       "2                                           237.9   245.0  230.8   \n",
       "3                                           238.5   245.8  231.2   \n",
       "4                                           225.6   230.5  220.5   \n",
       "5                                           236.3   239.0  233.9   \n",
       "6                                           227.4   236.3  219.1   \n",
       "7                                           204.0   214.1  194.5   \n",
       "8                                           215.5   224.7  206.6   \n",
       "9                                           217.4   227.6  208.0   \n",
       "10                                          182.1   193.1  171.8   \n",
       "11                                          223.0   232.1  214.3   \n",
       "12                                          144.8   152.0  138.2   \n",
       "13                                          133.3   133.9  132.8   \n",
       "14                                          163.8   172.2  155.8   \n",
       "15                                          197.4   207.2  188.2   \n",
       "16                                          239.1   247.9  230.7   \n",
       "17                                          218.9   228.4  209.7   \n",
       "18                                          245.8   254.5  237.6   \n",
       "\n",
       "   Genomsnittligt meritvärde beräknat på 17 ämnen3                 \\\n",
       "                                            Totalt Flickor Pojkar   \n",
       "0                                            228.5   238.2  219.3   \n",
       "1                                            223.6   233.8  214.1   \n",
       "2                                            247.2   254.8  239.7   \n",
       "3                                            247.9   255.7  240.1   \n",
       "4                                            233.2   238.4  227.8   \n",
       "5                                            244.3   247.1  241.7   \n",
       "6                                            236.0   245.4  227.1   \n",
       "7                                            210.2   221.0  200.1   \n",
       "8                                            223.0   232.8  213.5   \n",
       "9                                            224.8   235.8  214.7   \n",
       "10                                           186.1   197.7  175.1   \n",
       "11                                           231.1   240.9  221.7   \n",
       "12                                           146.2   153.6  139.3   \n",
       "13                                           135.2   135.8  134.6   \n",
       "14                                           166.8   175.6  158.3   \n",
       "15                                           203.2   213.6  193.3   \n",
       "16                                           248.6   258.1  239.6   \n",
       "17                                           226.5   236.6  216.6   \n",
       "18                                           256.0   265.3  247.2   \n",
       "\n",
       "   Andel (%) elever som saknar godkänt betyg i ett, flera eller alla ämnen  \\\n",
       "                                                                    Totalt   \n",
       "0                                                26.8                        \n",
       "1                                                28.9                        \n",
       "2                                                18.7                        \n",
       "3                                                18.0                        \n",
       "4                                                29.4                        \n",
       "5                                                25.6                        \n",
       "6                                                21.4                        \n",
       "7                                                40.2                        \n",
       "8                                                32.6                        \n",
       "9                                                32.0                        \n",
       "10                                               54.3                        \n",
       "11                                               25.2                        \n",
       "12                                               75.0                        \n",
       "13                                               77.9                        \n",
       "14                                               63.5                        \n",
       "15                                               37.4                        \n",
       "16                                               16.8                        \n",
       "17                                               26.1                        \n",
       "18                                               13.7                        \n",
       "\n",
       "                   \n",
       "   Flickor Pojkar  \n",
       "0     25.5   28.0  \n",
       "1     27.4   30.3  \n",
       "2     18.4   19.0  \n",
       "3     17.7   18.3  \n",
       "4     29.5   29.4  \n",
       "5     25.3   25.8  \n",
       "6     20.5   22.2  \n",
       "7     37.8   42.5  \n",
       "8     30.8   34.3  \n",
       "9     29.8   34.0  \n",
       "10    51.1   57.2  \n",
       "11    24.0   26.4  \n",
       "12    72.9   77.0  \n",
       "13    79.8   76.1  \n",
       "14    61.5   65.3  \n",
       "15    35.2   39.5  \n",
       "16    16.1   17.5  \n",
       "17    24.5   27.5  \n",
       "18    13.3   14.1  "
      ]
     },
     "execution_count": 90,
     "metadata": {},
     "output_type": "execute_result"
    }
   ],
   "source": [
    "# - c) (bonus) Undersök nu andra variabler, och hur de påverkar meritvärde och andel med minst ett saknat betyg. Data\n",
    "# finns för läsår 22/23. Exempel kan man undersöka föräldrarnas utbildningsbakgrund. Rita lämpliga grafer.\n",
    "\n",
    "df_bonus = df_grad.iloc[4:].reset_index(drop=True)\n",
    "df_bonus"
   ]
  }
 ],
 "metadata": {
  "kernelspec": {
   "display_name": ".venv",
   "language": "python",
   "name": "python3"
  },
  "language_info": {
   "codemirror_mode": {
    "name": "ipython",
    "version": 3
   },
   "file_extension": ".py",
   "mimetype": "text/x-python",
   "name": "python",
   "nbconvert_exporter": "python",
   "pygments_lexer": "ipython3",
   "version": "3.12.8"
  }
 },
 "nbformat": 4,
 "nbformat_minor": 2
}
